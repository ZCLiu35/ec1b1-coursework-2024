{
 "cells": [
  {
   "cell_type": "code",
   "execution_count": 1,
   "metadata": {},
   "outputs": [],
   "source": [
    "import numpy as np\n",
    "import pandas as pd\n",
    "import matplotlib.pyplot as plt\n",
    "from tabulate import tabulate"
   ]
  },
  {
   "cell_type": "markdown",
   "metadata": {},
   "source": [
    "# Separating the csv into before and after Bretton Woods"
   ]
  },
  {
   "cell_type": "code",
   "execution_count": 2,
   "metadata": {},
   "outputs": [],
   "source": [
    "df = pd.read_csv('./data/IMF_Italy_US.csv')\n",
    "\n",
    "df['date'] = pd.to_datetime(df['date'], format='%Y-%m-%d')\n",
    "\n",
    "# Define the split dates\n",
    "start_date_1 = pd.Timestamp('1960-01-01')\n",
    "end_date_1 = pd.Timestamp('1971-07-31')\n",
    "start_date_2 = pd.Timestamp('1973-01-01')\n",
    "end_date_2 = pd.Timestamp('1990-12-31')\n",
    "\n",
    "# Split the DataFrame into two parts\n",
    "df_before_bw = df[(df['date'] >= start_date_1) & (df['date'] <= end_date_1)]\n",
    "df_after_bw = df[(df['date'] >= start_date_2) & (df['date'] <= end_date_2)]\n",
    "\n",
    "# You can now work with part_1 and part_2 separately, or save them to new CSV files\n",
    "df_before_bw.to_csv('./data/before_bretton_woods.csv', index=False)\n",
    "df_after_bw.to_csv('./data/after_bretton_woods.csv', index=False)"
   ]
  },
  {
   "cell_type": "code",
   "execution_count": 11,
   "metadata": {},
   "outputs": [
    {
     "ename": "TypeError",
     "evalue": "DataFrame.pivot() missing 1 required keyword-only argument: 'columns'",
     "output_type": "error",
     "traceback": [
      "\u001b[0;31m---------------------------------------------------------------------------\u001b[0m",
      "\u001b[0;31mTypeError\u001b[0m                                 Traceback (most recent call last)",
      "Cell \u001b[0;32mIn[11], line 10\u001b[0m\n\u001b[1;32m      7\u001b[0m     stdev_dict[var] \u001b[38;5;241m=\u001b[39m [df_before_bw[var]\u001b[38;5;241m.\u001b[39mstd()]\n\u001b[1;32m      9\u001b[0m df_stdev_before_bw \u001b[38;5;241m=\u001b[39m pd\u001b[38;5;241m.\u001b[39mDataFrame(stdev_dict)\n\u001b[0;32m---> 10\u001b[0m df_pivoted \u001b[38;5;241m=\u001b[39m \u001b[43mdf_stdev_before_bw\u001b[49m\u001b[38;5;241;43m.\u001b[39;49m\u001b[43mpivot\u001b[49m\u001b[43m(\u001b[49m\u001b[43m)\u001b[49m\n",
      "\u001b[0;31mTypeError\u001b[0m: DataFrame.pivot() missing 1 required keyword-only argument: 'columns'"
     ]
    }
   ],
   "source": [
    "vars_to_calc = [\"nominal_er_growth_rate\", \"real_er_growth_rate\", \"inflation_rate_italy\", \"inflation_rate_usa\", \"diff_inflation_rate\", \"industrial_production_12m_growth_rate\"]\n",
    "\n",
    "df_before_bw.loc[:, \"diff_inflation_rate\"] = df_before_bw.loc[:, \"inflation_rate_italy\"] - df_before_bw.loc[:, \"inflation_rate_usa\"]\n",
    "\n",
    "stdev_dict = {}\n",
    "for var in vars_to_calc:\n",
    "    stdev_dict[var] = [df_before_bw[var].std()]\n",
    "\n",
    "df_stdev_before_bw = pd.DataFrame(stdev_dict)\n",
    "df_pivoted = df_stdev_before_bw.pivot(columns=df_stdev_before_bw.headers)"
   ]
  },
  {
   "cell_type": "code",
   "execution_count": null,
   "metadata": {},
   "outputs": [],
   "source": [
    "df_pivoted"
   ]
  },
  {
   "cell_type": "markdown",
   "metadata": {},
   "source": [
    "# monthly growth of nominal exchange rates versus the US dollar"
   ]
  },
  {
   "cell_type": "code",
   "execution_count": null,
   "metadata": {},
   "outputs": [],
   "source": []
  },
  {
   "cell_type": "code",
   "execution_count": null,
   "metadata": {},
   "outputs": [],
   "source": []
  },
  {
   "cell_type": "code",
   "execution_count": null,
   "metadata": {},
   "outputs": [],
   "source": []
  },
  {
   "cell_type": "code",
   "execution_count": null,
   "metadata": {},
   "outputs": [],
   "source": []
  },
  {
   "cell_type": "code",
   "execution_count": null,
   "metadata": {},
   "outputs": [],
   "source": []
  },
  {
   "cell_type": "markdown",
   "metadata": {},
   "source": [
    "## before bretton woods"
   ]
  },
  {
   "cell_type": "code",
   "execution_count": 3,
   "metadata": {},
   "outputs": [
    {
     "name": "stdout",
     "output_type": "stream",
     "text": [
      "Standard Deviation of nominal_er_growth_rate_ before Bretton Woods: 0.060820928308645265\n"
     ]
    }
   ],
   "source": [
    "std_nominal_er_growth_rate_before_bw = df_before_bw['nominal_er_growth_rate'].std()\n",
    "\n",
    "print(\"Standard Deviation of nominal_er_growth_rate_ before Bretton Woods:\", std_nominal_er_growth_rate_before_bw)\n",
    "\n"
   ]
  },
  {
   "cell_type": "code",
   "execution_count": 52,
   "metadata": {},
   "outputs": [
    {
     "name": "stdout",
     "output_type": "stream",
     "text": [
      "Standard Deviation of real_er_growth_rate_ before Bretton Woods: 0.40911560193320773\n"
     ]
    }
   ],
   "source": [
    "std_real_er_growth_rate_before_bw = df_before_bw['real_er_growth_rate'].std()\n",
    "\n",
    "print(\"Standard Deviation of real_er_growth_rate_ before Bretton Woods:\", std_real_er_growth_rate_before_bw)"
   ]
  },
  {
   "cell_type": "code",
   "execution_count": 53,
   "metadata": {},
   "outputs": [
    {
     "name": "stdout",
     "output_type": "stream",
     "text": [
      "Standard Deviation of inflation_rate_italy before Bretton Woods: 0.2908468475766149\n"
     ]
    }
   ],
   "source": [
    "std_inflation_rate_italy_before_bw = df_before_bw['inflation_rate_italy'].std()\n",
    "\n",
    "print(\"Standard Deviation of inflation_rate_italy before Bretton Woods:\", std_inflation_rate_italy_before_bw)"
   ]
  },
  {
   "cell_type": "code",
   "execution_count": 54,
   "metadata": {},
   "outputs": [
    {
     "name": "stdout",
     "output_type": "stream",
     "text": [
      "Standard Deviation of inflation difference between Italy and US before Bretton Woods: 0.4007939286929867\n"
     ]
    }
   ],
   "source": [
    "df_before_bw['difference'] = df_before_bw['inflation_rate_italy'] - df_before_bw['inflation_rate_usa']\n",
    "\n",
    "std_deviation_difference_before_bw = df_before_bw['difference'].std()\n",
    "\n",
    "print(\"Standard Deviation of inflation difference between Italy and US before Bretton Woods:\", std_deviation_difference_before_bw)"
   ]
  },
  {
   "cell_type": "code",
   "execution_count": 55,
   "metadata": {},
   "outputs": [
    {
     "name": "stdout",
     "output_type": "stream",
     "text": [
      "Standard Deviation of industrial_production_12m_growth_rate before Bretton Woods: 5.260397191915281\n"
     ]
    }
   ],
   "source": [
    "std_industrial_production_12m_growth_rate_before_bw = df_before_bw['industrial_production_12m_growth_rate'].std()\n",
    "\n",
    "print(\"Standard Deviation of industrial_production_12m_growth_rate before Bretton Woods:\", std_industrial_production_12m_growth_rate_before_bw)"
   ]
  },
  {
   "cell_type": "markdown",
   "metadata": {},
   "source": [
    "## after bretton woods"
   ]
  },
  {
   "cell_type": "code",
   "execution_count": 67,
   "metadata": {},
   "outputs": [
    {
     "name": "stdout",
     "output_type": "stream",
     "text": [
      "Standard Deviation of nominal_er_growth_rate_ after Bretton Woods: 2.5168353417405935\n"
     ]
    }
   ],
   "source": [
    "std_nominal_er_growth_rate_after_bw = df_after_bw['nominal_er_growth_rate'].std()\n",
    "\n",
    "print(\"Standard Deviation of nominal_er_growth_rate_ after Bretton Woods:\", std_nominal_er_growth_rate_after_bw)"
   ]
  },
  {
   "cell_type": "code",
   "execution_count": 65,
   "metadata": {},
   "outputs": [
    {
     "name": "stdout",
     "output_type": "stream",
     "text": [
      "Standard Deviation of real_er_growth_rate_ after Bretton Woods: 2.472205077907801\n"
     ]
    }
   ],
   "source": [
    "std_real_er_growth_rate_after_bw = df_after_bw['real_er_growth_rate'].std()\n",
    "\n",
    "print(\"Standard Deviation of real_er_growth_rate_ after Bretton Woods:\", std_real_er_growth_rate_after_bw)"
   ]
  },
  {
   "cell_type": "code",
   "execution_count": 58,
   "metadata": {},
   "outputs": [
    {
     "name": "stdout",
     "output_type": "stream",
     "text": [
      "Standard Deviation of inflation_rate_italy after Bretton Woods: 0.6012566005638674\n"
     ]
    }
   ],
   "source": [
    "std_inflation_rate_italy_after_bw = df_after_bw['inflation_rate_italy'].std()\n",
    "\n",
    "print(\"Standard Deviation of inflation_rate_italy after Bretton Woods:\", std_inflation_rate_italy_after_bw)"
   ]
  },
  {
   "cell_type": "code",
   "execution_count": 59,
   "metadata": {},
   "outputs": [
    {
     "name": "stdout",
     "output_type": "stream",
     "text": [
      "Standard Deviation of inflation difference between Italy and US after Bretton Woods: 0.5591857574585413\n"
     ]
    }
   ],
   "source": [
    "df_after_bw['difference2'] = df_after_bw['inflation_rate_italy'] - df_after_bw['inflation_rate_usa']\n",
    "\n",
    "std_deviation_difference_after_bw = df_after_bw['difference2'].std()\n",
    "\n",
    "print(\"Standard Deviation of inflation difference between Italy and US after Bretton Woods:\", std_deviation_difference_after_bw)"
   ]
  },
  {
   "cell_type": "code",
   "execution_count": 60,
   "metadata": {},
   "outputs": [
    {
     "name": "stdout",
     "output_type": "stream",
     "text": [
      "Standard Deviation of industrial_production_12m_growth_rate after Bretton Woods: 7.209651073724181\n"
     ]
    }
   ],
   "source": [
    "std_industrial_production_12m_growth_rate_after_bw = df_after_bw['industrial_production_12m_growth_rate'].std()\n",
    "\n",
    "print(\"Standard Deviation of industrial_production_12m_growth_rate after Bretton Woods:\", std_industrial_production_12m_growth_rate_after_bw)"
   ]
  },
  {
   "cell_type": "markdown",
   "metadata": {},
   "source": [
    "## table of standard deviations"
   ]
  },
  {
   "cell_type": "code",
   "execution_count": 68,
   "metadata": {},
   "outputs": [
    {
     "name": "stderr",
     "output_type": "stream",
     "text": [
      "<>:6: SyntaxWarning: list indices must be integers or slices, not tuple; perhaps you missed a comma?\n",
      "<>:6: SyntaxWarning: list indices must be integers or slices, not tuple; perhaps you missed a comma?\n",
      "/var/folders/b0/0cd003554v91pp_l9x5rsxjr0000gn/T/ipykernel_81038/3324830210.py:6: SyntaxWarning: list indices must be integers or slices, not tuple; perhaps you missed a comma?\n",
      "  [\"Difference between inflation rate in Italy versus US\", std_deviation_difference_before_bw, std_deviation_difference_after_bw, std_deviation_difference_before_bw/std_deviation_difference_after_bw ]\n"
     ]
    },
    {
     "ename": "TypeError",
     "evalue": "list indices must be integers or slices, not tuple",
     "output_type": "error",
     "traceback": [
      "\u001b[0;31m---------------------------------------------------------------------------\u001b[0m",
      "\u001b[0;31mTypeError\u001b[0m                                 Traceback (most recent call last)",
      "Cell \u001b[0;32mIn[68], line 6\u001b[0m\n\u001b[1;32m      1\u001b[0m headers \u001b[38;5;241m=\u001b[39m [\u001b[38;5;124m\"\u001b[39m\u001b[38;5;124mVariable\u001b[39m\u001b[38;5;124m\"\u001b[39m, \u001b[38;5;124m\"\u001b[39m\u001b[38;5;124mBefore Bretton Woods\u001b[39m\u001b[38;5;124m\"\u001b[39m, \u001b[38;5;124m\"\u001b[39m\u001b[38;5;124mAfter Bretton Woods\u001b[39m\u001b[38;5;124m\"\u001b[39m, \u001b[38;5;124m\"\u001b[39m\u001b[38;5;124mRatio\u001b[39m\u001b[38;5;124m\"\u001b[39m]\n\u001b[1;32m      2\u001b[0m rows \u001b[38;5;241m=\u001b[39m [\n\u001b[1;32m      3\u001b[0m     [\u001b[38;5;124m\"\u001b[39m\u001b[38;5;124mMonthly growth of nominal exchange rates versus US\u001b[39m\u001b[38;5;124m\"\u001b[39m, std_nominal_er_growth_rate_before_bw, std_nominal_er_growth_rate_after_bw, std_nominal_er_growth_rate_before_bw\u001b[38;5;241m/\u001b[39mstd_nominal_er_growth_rate_after_bw],\n\u001b[1;32m      4\u001b[0m     [\u001b[38;5;124m\"\u001b[39m\u001b[38;5;124mMonthly growth of real exchange rates versus US\u001b[39m\u001b[38;5;124m\"\u001b[39m, std_real_er_growth_rate_before_bw, std_real_er_growth_rate_after_bw , std_real_er_growth_rate_before_bw\u001b[38;5;241m/\u001b[39mstd_real_er_growth_rate_after_bw ],\n\u001b[1;32m      5\u001b[0m     [\u001b[38;5;124m\"\u001b[39m\u001b[38;5;124mInflation rate in Italy\u001b[39m\u001b[38;5;124m\"\u001b[39m, std_inflation_rate_italy_before_bw, std_inflation_rate_italy_after_bw, std_inflation_rate_italy_before_bw\u001b[38;5;241m/\u001b[39mstd_inflation_rate_italy_after_bw], \n\u001b[0;32m----> 6\u001b[0m     \u001b[43m[\u001b[49m\u001b[38;5;124;43m\"\u001b[39;49m\u001b[38;5;124;43mDifference between inflation rate in Italy versus US\u001b[39;49m\u001b[38;5;124;43m\"\u001b[39;49m\u001b[43m,\u001b[49m\u001b[43m \u001b[49m\u001b[43mstd_deviation_difference_before_bw\u001b[49m\u001b[43m,\u001b[49m\u001b[43m \u001b[49m\u001b[43mstd_deviation_difference_after_bw\u001b[49m\u001b[43m,\u001b[49m\u001b[43m \u001b[49m\u001b[43mstd_deviation_difference_before_bw\u001b[49m\u001b[38;5;241;43m/\u001b[39;49m\u001b[43mstd_deviation_difference_after_bw\u001b[49m\u001b[43m \u001b[49m\u001b[43m]\u001b[49m\n\u001b[1;32m      7\u001b[0m \u001b[43m    \u001b[49m\u001b[43m[\u001b[49m\u001b[38;5;124;43m\"\u001b[39;49m\u001b[38;5;124;43m12-monthly industrial growth\u001b[39;49m\u001b[38;5;124;43m\"\u001b[39;49m\u001b[43m,\u001b[49m\u001b[43m \u001b[49m\u001b[43mstd_industrial_production_12m_growth_rate_before_bw\u001b[49m\u001b[43m,\u001b[49m\u001b[43m \u001b[49m\u001b[43mstd_industrial_production_12m_growth_rate_after_bw\u001b[49m\u001b[43m,\u001b[49m\u001b[43m \u001b[49m\u001b[43mstd_industrial_production_12m_growth_rate_before_bw\u001b[49m\u001b[38;5;241;43m/\u001b[39;49m\u001b[43mstd_industrial_production_12m_growth_rate_after_bw\u001b[49m\u001b[43m]\u001b[49m\n\u001b[1;32m      8\u001b[0m ]\n\u001b[1;32m     10\u001b[0m \u001b[38;5;66;03m# Print the table\u001b[39;00m\n\u001b[1;32m     11\u001b[0m \u001b[38;5;28mprint\u001b[39m(tabulate(rows, headers\u001b[38;5;241m=\u001b[39mheaders))\n",
      "\u001b[0;31mTypeError\u001b[0m: list indices must be integers or slices, not tuple"
     ]
    }
   ],
   "source": [
    "headers = [\"Variable\", \"Before Bretton Woods\", \"After Bretton Woods\", \"Ratio\"]\n",
    "rows = [\n",
    "    [\"Monthly growth of nominal exchange rates versus US\", std_nominal_er_growth_rate_before_bw, std_nominal_er_growth_rate_after_bw, std_nominal_er_growth_rate_before_bw/std_nominal_er_growth_rate_after_bw],\n",
    "    [\"Monthly growth of real exchange rates versus US\", std_real_er_growth_rate_before_bw, std_real_er_growth_rate_after_bw , std_real_er_growth_rate_before_bw/std_real_er_growth_rate_after_bw ],\n",
    "    [\"Inflation rate in Italy\", std_inflation_rate_italy_before_bw, std_inflation_rate_italy_after_bw, std_inflation_rate_italy_before_bw/std_inflation_rate_italy_after_bw], \n",
    "    [\"Difference between inflation rate in Italy versus US\", std_deviation_difference_before_bw, std_deviation_difference_after_bw, std_deviation_difference_before_bw/std_deviation_difference_after_bw ]\n",
    "    [\"12-monthly industrial growth\", std_industrial_production_12m_growth_rate_before_bw, std_industrial_production_12m_growth_rate_after_bw, std_industrial_production_12m_growth_rate_before_bw/std_industrial_production_12m_growth_rate_after_bw]\n",
    "]\n",
    "\n",
    "# Print the table\n",
    "print(tabulate(rows, headers=headers))"
   ]
  }
 ],
 "metadata": {
  "kernelspec": {
   "display_name": "Python 3",
   "language": "python",
   "name": "python3"
  },
  "language_info": {
   "codemirror_mode": {
    "name": "ipython",
    "version": 3
   },
   "file_extension": ".py",
   "mimetype": "text/x-python",
   "name": "python",
   "nbconvert_exporter": "python",
   "pygments_lexer": "ipython3",
   "version": "3.11.4"
  }
 },
 "nbformat": 4,
 "nbformat_minor": 2
}
