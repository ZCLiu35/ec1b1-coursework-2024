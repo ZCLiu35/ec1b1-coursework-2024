{
 "cells": [
  {
   "cell_type": "markdown",
   "metadata": {},
   "source": [
    "# 0. Setup"
   ]
  },
  {
   "cell_type": "code",
   "execution_count": 29,
   "metadata": {},
   "outputs": [],
   "source": [
    "import pandas as pd"
   ]
  },
  {
   "cell_type": "markdown",
   "metadata": {},
   "source": [
    "# 1. Separate the csv into before and after Bretton Woods"
   ]
  },
  {
   "cell_type": "code",
   "execution_count": 30,
   "metadata": {},
   "outputs": [],
   "source": [
    "df = pd.read_csv('./data/IMF_Italy_US.csv')\n",
    "\n",
    "df['date'] = pd.to_datetime(df['date'], format='%Y-%m-%d')\n",
    "\n",
    "# Define the split dates\n",
    "start_date_1 = pd.Timestamp('1960-01-01')\n",
    "end_date_1 = pd.Timestamp('1971-07-31')\n",
    "start_date_2 = pd.Timestamp('1973-01-01')\n",
    "end_date_2 = pd.Timestamp('1990-12-31')\n",
    "\n",
    "# Split the DataFrame into two parts\n",
    "df_before_bw = df[(df['date'] >= start_date_1) & (df['date'] <= end_date_1)]\n",
    "df_after_bw = df[(df['date'] >= start_date_2) & (df['date'] <= end_date_2)]\n",
    "\n",
    "# Save to csv for inspection\n",
    "df_before_bw.to_csv('./data/before_bretton_woods.csv', index=False)\n",
    "df_after_bw.to_csv('./data/after_bretton_woods.csv', index=False)"
   ]
  },
  {
   "cell_type": "markdown",
   "metadata": {},
   "source": [
    "# 2. Calculate Standard Deviation of Variables Before and After Bretton Woods"
   ]
  },
  {
   "cell_type": "code",
   "execution_count": 31,
   "metadata": {},
   "outputs": [
    {
     "name": "stderr",
     "output_type": "stream",
     "text": [
      "C:\\Users\\Zicheng Liu\\AppData\\Local\\Temp\\ipykernel_76936\\2609635743.py:3: SettingWithCopyWarning: \n",
      "A value is trying to be set on a copy of a slice from a DataFrame.\n",
      "Try using .loc[row_indexer,col_indexer] = value instead\n",
      "\n",
      "See the caveats in the documentation: https://pandas.pydata.org/pandas-docs/stable/user_guide/indexing.html#returning-a-view-versus-a-copy\n",
      "  df_before_bw.loc[:, \"diff_inflation_rate\"] = df_before_bw.loc[:, \"inflation_rate_italy\"] - df_before_bw.loc[:, \"inflation_rate_usa\"]\n",
      "C:\\Users\\Zicheng Liu\\AppData\\Local\\Temp\\ipykernel_76936\\2609635743.py:4: SettingWithCopyWarning: \n",
      "A value is trying to be set on a copy of a slice from a DataFrame.\n",
      "Try using .loc[row_indexer,col_indexer] = value instead\n",
      "\n",
      "See the caveats in the documentation: https://pandas.pydata.org/pandas-docs/stable/user_guide/indexing.html#returning-a-view-versus-a-copy\n",
      "  df_after_bw.loc[:, \"diff_inflation_rate\"] = df_after_bw[\"inflation_rate_italy\"] - df_after_bw[\"inflation_rate_usa\"]\n"
     ]
    }
   ],
   "source": [
    "vars_to_calc = [\"nominal_er_growth_rate\", \"real_er_growth_rate\", \"inflation_rate_italy\", \"inflation_rate_usa\", \"diff_inflation_rate\", \"industrial_production_12m_growth_rate\"]\n",
    "\n",
    "df_before_bw.loc[:, \"diff_inflation_rate\"] = df_before_bw.loc[:, \"inflation_rate_italy\"] - df_before_bw.loc[:, \"inflation_rate_usa\"]\n",
    "df_after_bw.loc[:, \"diff_inflation_rate\"] = df_after_bw[\"inflation_rate_italy\"] - df_after_bw[\"inflation_rate_usa\"]\n",
    "before_stdev_dict = {}\n",
    "for var in vars_to_calc:\n",
    "    before_stdev_dict[var] = [df_before_bw[var].std()]\n",
    "after_stdev_dict = {}\n",
    "for var in vars_to_calc:\n",
    "    after_stdev_dict[var] = [df_after_bw[var].std()]\n",
    "\n",
    "df_stdev_before_bw = pd.DataFrame(before_stdev_dict)\n",
    "df_stdev_after_bw = pd.DataFrame(after_stdev_dict)"
   ]
  },
  {
   "cell_type": "markdown",
   "metadata": {},
   "source": [
    "# 3. Combining and Renaming the Data"
   ]
  },
  {
   "cell_type": "code",
   "execution_count": 32,
   "metadata": {},
   "outputs": [],
   "source": [
    "df_before_after_stdev = pd.concat([df_stdev_before_bw, df_stdev_after_bw], axis=0)\n",
    "\n",
    "# Rename the rows to before and after Bretton Woods\n",
    "df_before_after_stdev.index = [\"Before Bretton Woods\", \"After Bretton Woods\"]\n",
    "\n",
    "# Transpose the DataFrame so that variables are in rows\n",
    "df_before_after_stdev = df_before_after_stdev.transpose()\n",
    "\n",
    "# Calculate the ratio of the standard deviations\n",
    "df_before_after_stdev[\"Ratio\"] = df_before_after_stdev[\"After Bretton Woods\"] / df_before_after_stdev[\"Before Bretton Woods\"]\n",
    "\n",
    "# Rename variables for better readability\n",
    "df_before_after_stdev.index = [\n",
    "    \"Nominal ER Growth Rate\",\n",
    "    \"Real ER Growth Rate\",\n",
    "    \"Italy Inflation Rate\",\n",
    "    \"USA Inflation Rate\",\n",
    "    \"Inflation Rate Difference\",\n",
    "    \"Industrial Production 12m Growth Rate\"\n",
    "    ]"
   ]
  },
  {
   "cell_type": "code",
   "execution_count": 33,
   "metadata": {},
   "outputs": [
    {
     "data": {
      "text/html": [
       "<div>\n",
       "<style scoped>\n",
       "    .dataframe tbody tr th:only-of-type {\n",
       "        vertical-align: middle;\n",
       "    }\n",
       "\n",
       "    .dataframe tbody tr th {\n",
       "        vertical-align: top;\n",
       "    }\n",
       "\n",
       "    .dataframe thead th {\n",
       "        text-align: right;\n",
       "    }\n",
       "</style>\n",
       "<table border=\"1\" class=\"dataframe\">\n",
       "  <thead>\n",
       "    <tr style=\"text-align: right;\">\n",
       "      <th></th>\n",
       "      <th>Before Bretton Woods</th>\n",
       "      <th>After Bretton Woods</th>\n",
       "      <th>Ratio</th>\n",
       "    </tr>\n",
       "  </thead>\n",
       "  <tbody>\n",
       "    <tr>\n",
       "      <th>Nominal ER Growth Rate</th>\n",
       "      <td>0.060821</td>\n",
       "      <td>2.516835</td>\n",
       "      <td>41.381074</td>\n",
       "    </tr>\n",
       "    <tr>\n",
       "      <th>Real ER Growth Rate</th>\n",
       "      <td>0.409116</td>\n",
       "      <td>2.472205</td>\n",
       "      <td>6.042803</td>\n",
       "    </tr>\n",
       "    <tr>\n",
       "      <th>Italy Inflation Rate</th>\n",
       "      <td>0.290847</td>\n",
       "      <td>0.601257</td>\n",
       "      <td>2.067262</td>\n",
       "    </tr>\n",
       "    <tr>\n",
       "      <th>USA Inflation Rate</th>\n",
       "      <td>0.240022</td>\n",
       "      <td>0.368085</td>\n",
       "      <td>1.533547</td>\n",
       "    </tr>\n",
       "    <tr>\n",
       "      <th>Inflation Rate Difference</th>\n",
       "      <td>0.400794</td>\n",
       "      <td>0.559186</td>\n",
       "      <td>1.395195</td>\n",
       "    </tr>\n",
       "    <tr>\n",
       "      <th>Industrial Production 12m Growth Rate</th>\n",
       "      <td>5.260397</td>\n",
       "      <td>7.209651</td>\n",
       "      <td>1.370553</td>\n",
       "    </tr>\n",
       "  </tbody>\n",
       "</table>\n",
       "</div>"
      ],
      "text/plain": [
       "                                       Before Bretton Woods  \\\n",
       "Nominal ER Growth Rate                             0.060821   \n",
       "Real ER Growth Rate                                0.409116   \n",
       "Italy Inflation Rate                               0.290847   \n",
       "USA Inflation Rate                                 0.240022   \n",
       "Inflation Rate Difference                          0.400794   \n",
       "Industrial Production 12m Growth Rate              5.260397   \n",
       "\n",
       "                                       After Bretton Woods      Ratio  \n",
       "Nominal ER Growth Rate                            2.516835  41.381074  \n",
       "Real ER Growth Rate                               2.472205   6.042803  \n",
       "Italy Inflation Rate                              0.601257   2.067262  \n",
       "USA Inflation Rate                                0.368085   1.533547  \n",
       "Inflation Rate Difference                         0.559186   1.395195  \n",
       "Industrial Production 12m Growth Rate             7.209651   1.370553  "
      ]
     },
     "execution_count": 33,
     "metadata": {},
     "output_type": "execute_result"
    }
   ],
   "source": [
    "df_before_after_stdev"
   ]
  },
  {
   "cell_type": "code",
   "execution_count": 34,
   "metadata": {},
   "outputs": [
    {
     "data": {
      "text/html": [
       "<div>\n",
       "<style scoped>\n",
       "    .dataframe tbody tr th:only-of-type {\n",
       "        vertical-align: middle;\n",
       "    }\n",
       "\n",
       "    .dataframe tbody tr th {\n",
       "        vertical-align: top;\n",
       "    }\n",
       "\n",
       "    .dataframe thead th {\n",
       "        text-align: right;\n",
       "    }\n",
       "</style>\n",
       "<table border=\"1\" class=\"dataframe\">\n",
       "  <thead>\n",
       "    <tr style=\"text-align: right;\">\n",
       "      <th></th>\n",
       "      <th>Nominal ER Growth Rate</th>\n",
       "      <th>Real ER Growth Rate</th>\n",
       "      <th>Italy Inflation Rate</th>\n",
       "      <th>USA Inflation Rate</th>\n",
       "      <th>Inflation Rate Difference</th>\n",
       "      <th>Industrial Production 12m Growth Rate</th>\n",
       "    </tr>\n",
       "  </thead>\n",
       "  <tbody>\n",
       "    <tr>\n",
       "      <th>Before Bretton Woods</th>\n",
       "      <td>0.060821</td>\n",
       "      <td>0.409116</td>\n",
       "      <td>0.290847</td>\n",
       "      <td>0.240022</td>\n",
       "      <td>0.400794</td>\n",
       "      <td>5.260397</td>\n",
       "    </tr>\n",
       "    <tr>\n",
       "      <th>After Bretton Woods</th>\n",
       "      <td>2.516835</td>\n",
       "      <td>2.472205</td>\n",
       "      <td>0.601257</td>\n",
       "      <td>0.368085</td>\n",
       "      <td>0.559186</td>\n",
       "      <td>7.209651</td>\n",
       "    </tr>\n",
       "    <tr>\n",
       "      <th>Ratio</th>\n",
       "      <td>41.381074</td>\n",
       "      <td>6.042803</td>\n",
       "      <td>2.067262</td>\n",
       "      <td>1.533547</td>\n",
       "      <td>1.395195</td>\n",
       "      <td>1.370553</td>\n",
       "    </tr>\n",
       "  </tbody>\n",
       "</table>\n",
       "</div>"
      ],
      "text/plain": [
       "                      Nominal ER Growth Rate  Real ER Growth Rate  \\\n",
       "Before Bretton Woods                0.060821             0.409116   \n",
       "After Bretton Woods                 2.516835             2.472205   \n",
       "Ratio                              41.381074             6.042803   \n",
       "\n",
       "                      Italy Inflation Rate  USA Inflation Rate  \\\n",
       "Before Bretton Woods              0.290847            0.240022   \n",
       "After Bretton Woods               0.601257            0.368085   \n",
       "Ratio                             2.067262            1.533547   \n",
       "\n",
       "                      Inflation Rate Difference  \\\n",
       "Before Bretton Woods                   0.400794   \n",
       "After Bretton Woods                    0.559186   \n",
       "Ratio                                  1.395195   \n",
       "\n",
       "                      Industrial Production 12m Growth Rate  \n",
       "Before Bretton Woods                               5.260397  \n",
       "After Bretton Woods                                7.209651  \n",
       "Ratio                                              1.370553  "
      ]
     },
     "execution_count": 34,
     "metadata": {},
     "output_type": "execute_result"
    }
   ],
   "source": [
    "df_before_after_stdev.T"
   ]
  },
  {
   "cell_type": "markdown",
   "metadata": {},
   "source": [
    "# monthly growth of nominal exchange rates versus the US dollar"
   ]
  },
  {
   "cell_type": "markdown",
   "metadata": {},
   "source": [
    "## before bretton woods"
   ]
  },
  {
   "cell_type": "code",
   "execution_count": 3,
   "metadata": {},
   "outputs": [
    {
     "name": "stdout",
     "output_type": "stream",
     "text": [
      "Standard Deviation of nominal_er_growth_rate_ before Bretton Woods: 0.060820928308645265\n"
     ]
    }
   ],
   "source": [
    "std_nominal_er_growth_rate_before_bw = df_before_bw['nominal_er_growth_rate'].std()\n",
    "\n",
    "print(\"Standard Deviation of nominal_er_growth_rate_ before Bretton Woods:\", std_nominal_er_growth_rate_before_bw)\n",
    "\n"
   ]
  },
  {
   "cell_type": "code",
   "execution_count": 52,
   "metadata": {},
   "outputs": [
    {
     "name": "stdout",
     "output_type": "stream",
     "text": [
      "Standard Deviation of real_er_growth_rate_ before Bretton Woods: 0.40911560193320773\n"
     ]
    }
   ],
   "source": [
    "std_real_er_growth_rate_before_bw = df_before_bw['real_er_growth_rate'].std()\n",
    "\n",
    "print(\"Standard Deviation of real_er_growth_rate_ before Bretton Woods:\", std_real_er_growth_rate_before_bw)"
   ]
  },
  {
   "cell_type": "code",
   "execution_count": 53,
   "metadata": {},
   "outputs": [
    {
     "name": "stdout",
     "output_type": "stream",
     "text": [
      "Standard Deviation of inflation_rate_italy before Bretton Woods: 0.2908468475766149\n"
     ]
    }
   ],
   "source": [
    "std_inflation_rate_italy_before_bw = df_before_bw['inflation_rate_italy'].std()\n",
    "\n",
    "print(\"Standard Deviation of inflation_rate_italy before Bretton Woods:\", std_inflation_rate_italy_before_bw)"
   ]
  },
  {
   "cell_type": "code",
   "execution_count": 54,
   "metadata": {},
   "outputs": [
    {
     "name": "stdout",
     "output_type": "stream",
     "text": [
      "Standard Deviation of inflation difference between Italy and US before Bretton Woods: 0.4007939286929867\n"
     ]
    }
   ],
   "source": [
    "df_before_bw['difference'] = df_before_bw['inflation_rate_italy'] - df_before_bw['inflation_rate_usa']\n",
    "\n",
    "std_deviation_difference_before_bw = df_before_bw['difference'].std()\n",
    "\n",
    "print(\"Standard Deviation of inflation difference between Italy and US before Bretton Woods:\", std_deviation_difference_before_bw)"
   ]
  },
  {
   "cell_type": "code",
   "execution_count": 55,
   "metadata": {},
   "outputs": [
    {
     "name": "stdout",
     "output_type": "stream",
     "text": [
      "Standard Deviation of industrial_production_12m_growth_rate before Bretton Woods: 5.260397191915281\n"
     ]
    }
   ],
   "source": [
    "std_industrial_production_12m_growth_rate_before_bw = df_before_bw['industrial_production_12m_growth_rate'].std()\n",
    "\n",
    "print(\"Standard Deviation of industrial_production_12m_growth_rate before Bretton Woods:\", std_industrial_production_12m_growth_rate_before_bw)"
   ]
  },
  {
   "cell_type": "markdown",
   "metadata": {},
   "source": [
    "## after bretton woods"
   ]
  },
  {
   "cell_type": "code",
   "execution_count": 67,
   "metadata": {},
   "outputs": [
    {
     "name": "stdout",
     "output_type": "stream",
     "text": [
      "Standard Deviation of nominal_er_growth_rate_ after Bretton Woods: 2.5168353417405935\n"
     ]
    }
   ],
   "source": [
    "std_nominal_er_growth_rate_after_bw = df_after_bw['nominal_er_growth_rate'].std()\n",
    "\n",
    "print(\"Standard Deviation of nominal_er_growth_rate_ after Bretton Woods:\", std_nominal_er_growth_rate_after_bw)"
   ]
  },
  {
   "cell_type": "code",
   "execution_count": 65,
   "metadata": {},
   "outputs": [
    {
     "name": "stdout",
     "output_type": "stream",
     "text": [
      "Standard Deviation of real_er_growth_rate_ after Bretton Woods: 2.472205077907801\n"
     ]
    }
   ],
   "source": [
    "std_real_er_growth_rate_after_bw = df_after_bw['real_er_growth_rate'].std()\n",
    "\n",
    "print(\"Standard Deviation of real_er_growth_rate_ after Bretton Woods:\", std_real_er_growth_rate_after_bw)"
   ]
  },
  {
   "cell_type": "code",
   "execution_count": 58,
   "metadata": {},
   "outputs": [
    {
     "name": "stdout",
     "output_type": "stream",
     "text": [
      "Standard Deviation of inflation_rate_italy after Bretton Woods: 0.6012566005638674\n"
     ]
    }
   ],
   "source": [
    "std_inflation_rate_italy_after_bw = df_after_bw['inflation_rate_italy'].std()\n",
    "\n",
    "print(\"Standard Deviation of inflation_rate_italy after Bretton Woods:\", std_inflation_rate_italy_after_bw)"
   ]
  },
  {
   "cell_type": "code",
   "execution_count": 59,
   "metadata": {},
   "outputs": [
    {
     "name": "stdout",
     "output_type": "stream",
     "text": [
      "Standard Deviation of inflation difference between Italy and US after Bretton Woods: 0.5591857574585413\n"
     ]
    }
   ],
   "source": [
    "df_after_bw['difference2'] = df_after_bw['inflation_rate_italy'] - df_after_bw['inflation_rate_usa']\n",
    "\n",
    "std_deviation_difference_after_bw = df_after_bw['difference2'].std()\n",
    "\n",
    "print(\"Standard Deviation of inflation difference between Italy and US after Bretton Woods:\", std_deviation_difference_after_bw)"
   ]
  },
  {
   "cell_type": "code",
   "execution_count": 60,
   "metadata": {},
   "outputs": [
    {
     "name": "stdout",
     "output_type": "stream",
     "text": [
      "Standard Deviation of industrial_production_12m_growth_rate after Bretton Woods: 7.209651073724181\n"
     ]
    }
   ],
   "source": [
    "std_industrial_production_12m_growth_rate_after_bw = df_after_bw['industrial_production_12m_growth_rate'].std()\n",
    "\n",
    "print(\"Standard Deviation of industrial_production_12m_growth_rate after Bretton Woods:\", std_industrial_production_12m_growth_rate_after_bw)"
   ]
  },
  {
   "cell_type": "markdown",
   "metadata": {},
   "source": [
    "## table of standard deviations"
   ]
  },
  {
   "cell_type": "code",
   "execution_count": 68,
   "metadata": {},
   "outputs": [
    {
     "name": "stderr",
     "output_type": "stream",
     "text": [
      "<>:6: SyntaxWarning: list indices must be integers or slices, not tuple; perhaps you missed a comma?\n",
      "<>:6: SyntaxWarning: list indices must be integers or slices, not tuple; perhaps you missed a comma?\n",
      "/var/folders/b0/0cd003554v91pp_l9x5rsxjr0000gn/T/ipykernel_81038/3324830210.py:6: SyntaxWarning: list indices must be integers or slices, not tuple; perhaps you missed a comma?\n",
      "  [\"Difference between inflation rate in Italy versus US\", std_deviation_difference_before_bw, std_deviation_difference_after_bw, std_deviation_difference_before_bw/std_deviation_difference_after_bw ]\n"
     ]
    },
    {
     "ename": "TypeError",
     "evalue": "list indices must be integers or slices, not tuple",
     "output_type": "error",
     "traceback": [
      "\u001b[0;31m---------------------------------------------------------------------------\u001b[0m",
      "\u001b[0;31mTypeError\u001b[0m                                 Traceback (most recent call last)",
      "Cell \u001b[0;32mIn[68], line 6\u001b[0m\n\u001b[1;32m      1\u001b[0m headers \u001b[38;5;241m=\u001b[39m [\u001b[38;5;124m\"\u001b[39m\u001b[38;5;124mVariable\u001b[39m\u001b[38;5;124m\"\u001b[39m, \u001b[38;5;124m\"\u001b[39m\u001b[38;5;124mBefore Bretton Woods\u001b[39m\u001b[38;5;124m\"\u001b[39m, \u001b[38;5;124m\"\u001b[39m\u001b[38;5;124mAfter Bretton Woods\u001b[39m\u001b[38;5;124m\"\u001b[39m, \u001b[38;5;124m\"\u001b[39m\u001b[38;5;124mRatio\u001b[39m\u001b[38;5;124m\"\u001b[39m]\n\u001b[1;32m      2\u001b[0m rows \u001b[38;5;241m=\u001b[39m [\n\u001b[1;32m      3\u001b[0m     [\u001b[38;5;124m\"\u001b[39m\u001b[38;5;124mMonthly growth of nominal exchange rates versus US\u001b[39m\u001b[38;5;124m\"\u001b[39m, std_nominal_er_growth_rate_before_bw, std_nominal_er_growth_rate_after_bw, std_nominal_er_growth_rate_before_bw\u001b[38;5;241m/\u001b[39mstd_nominal_er_growth_rate_after_bw],\n\u001b[1;32m      4\u001b[0m     [\u001b[38;5;124m\"\u001b[39m\u001b[38;5;124mMonthly growth of real exchange rates versus US\u001b[39m\u001b[38;5;124m\"\u001b[39m, std_real_er_growth_rate_before_bw, std_real_er_growth_rate_after_bw , std_real_er_growth_rate_before_bw\u001b[38;5;241m/\u001b[39mstd_real_er_growth_rate_after_bw ],\n\u001b[1;32m      5\u001b[0m     [\u001b[38;5;124m\"\u001b[39m\u001b[38;5;124mInflation rate in Italy\u001b[39m\u001b[38;5;124m\"\u001b[39m, std_inflation_rate_italy_before_bw, std_inflation_rate_italy_after_bw, std_inflation_rate_italy_before_bw\u001b[38;5;241m/\u001b[39mstd_inflation_rate_italy_after_bw], \n\u001b[0;32m----> 6\u001b[0m     \u001b[43m[\u001b[49m\u001b[38;5;124;43m\"\u001b[39;49m\u001b[38;5;124;43mDifference between inflation rate in Italy versus US\u001b[39;49m\u001b[38;5;124;43m\"\u001b[39;49m\u001b[43m,\u001b[49m\u001b[43m \u001b[49m\u001b[43mstd_deviation_difference_before_bw\u001b[49m\u001b[43m,\u001b[49m\u001b[43m \u001b[49m\u001b[43mstd_deviation_difference_after_bw\u001b[49m\u001b[43m,\u001b[49m\u001b[43m \u001b[49m\u001b[43mstd_deviation_difference_before_bw\u001b[49m\u001b[38;5;241;43m/\u001b[39;49m\u001b[43mstd_deviation_difference_after_bw\u001b[49m\u001b[43m \u001b[49m\u001b[43m]\u001b[49m\n\u001b[1;32m      7\u001b[0m \u001b[43m    \u001b[49m\u001b[43m[\u001b[49m\u001b[38;5;124;43m\"\u001b[39;49m\u001b[38;5;124;43m12-monthly industrial growth\u001b[39;49m\u001b[38;5;124;43m\"\u001b[39;49m\u001b[43m,\u001b[49m\u001b[43m \u001b[49m\u001b[43mstd_industrial_production_12m_growth_rate_before_bw\u001b[49m\u001b[43m,\u001b[49m\u001b[43m \u001b[49m\u001b[43mstd_industrial_production_12m_growth_rate_after_bw\u001b[49m\u001b[43m,\u001b[49m\u001b[43m \u001b[49m\u001b[43mstd_industrial_production_12m_growth_rate_before_bw\u001b[49m\u001b[38;5;241;43m/\u001b[39;49m\u001b[43mstd_industrial_production_12m_growth_rate_after_bw\u001b[49m\u001b[43m]\u001b[49m\n\u001b[1;32m      8\u001b[0m ]\n\u001b[1;32m     10\u001b[0m \u001b[38;5;66;03m# Print the table\u001b[39;00m\n\u001b[1;32m     11\u001b[0m \u001b[38;5;28mprint\u001b[39m(tabulate(rows, headers\u001b[38;5;241m=\u001b[39mheaders))\n",
      "\u001b[0;31mTypeError\u001b[0m: list indices must be integers or slices, not tuple"
     ]
    }
   ],
   "source": [
    "headers = [\"Variable\", \"Before Bretton Woods\", \"After Bretton Woods\", \"Ratio\"]\n",
    "rows = [\n",
    "    [\"Monthly growth of nominal exchange rates versus US\", std_nominal_er_growth_rate_before_bw, std_nominal_er_growth_rate_after_bw, std_nominal_er_growth_rate_before_bw/std_nominal_er_growth_rate_after_bw],\n",
    "    [\"Monthly growth of real exchange rates versus US\", std_real_er_growth_rate_before_bw, std_real_er_growth_rate_after_bw , std_real_er_growth_rate_before_bw/std_real_er_growth_rate_after_bw ],\n",
    "    [\"Inflation rate in Italy\", std_inflation_rate_italy_before_bw, std_inflation_rate_italy_after_bw, std_inflation_rate_italy_before_bw/std_inflation_rate_italy_after_bw], \n",
    "    [\"Difference between inflation rate in Italy versus US\", std_deviation_difference_before_bw, std_deviation_difference_after_bw, std_deviation_difference_before_bw/std_deviation_difference_after_bw ]\n",
    "    [\"12-monthly industrial growth\", std_industrial_production_12m_growth_rate_before_bw, std_industrial_production_12m_growth_rate_after_bw, std_industrial_production_12m_growth_rate_before_bw/std_industrial_production_12m_growth_rate_after_bw]\n",
    "]\n",
    "\n",
    "# Print the table\n",
    "print(tabulate(rows, headers=headers))"
   ]
  }
 ],
 "metadata": {
  "kernelspec": {
   "display_name": "Python 3",
   "language": "python",
   "name": "python3"
  },
  "language_info": {
   "codemirror_mode": {
    "name": "ipython",
    "version": 3
   },
   "file_extension": ".py",
   "mimetype": "text/x-python",
   "name": "python",
   "nbconvert_exporter": "python",
   "pygments_lexer": "ipython3",
   "version": "3.9.18"
  }
 },
 "nbformat": 4,
 "nbformat_minor": 2
}
