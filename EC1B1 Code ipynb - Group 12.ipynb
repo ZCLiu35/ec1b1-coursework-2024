{
 "cells": [
  {
   "cell_type": "markdown",
   "metadata": {},
   "source": [
    "# EC1B1 Macroeconomics Coursework - Code"
   ]
  },
  {
   "cell_type": "markdown",
   "metadata": {},
   "source": [
    "This notebook contains all the code for our EC1B1 Macroeconomics coursework. The code is divided into the following sections:"
   ]
  }
 ],
 "metadata": {
  "language_info": {
   "name": "python"
  }
 },
 "nbformat": 4,
 "nbformat_minor": 2
}
