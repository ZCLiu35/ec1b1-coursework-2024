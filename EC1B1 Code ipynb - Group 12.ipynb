{
 "cells": [
  {
   "cell_type": "markdown",
   "metadata": {},
   "source": [
    "# EC1B1 Macroeconomics Coursework - Code"
   ]
  },
  {
   "cell_type": "markdown",
   "metadata": {},
   "source": [
    "This notebook contains all the code for our EC1B1 Macroeconomics coursework. The code is divided into the following sections:"
   ]
  },
  {
   "cell_type": "markdown",
   "metadata": {},
   "source": [
    "## 0. Import Libraries"
   ]
  },
  {
   "cell_type": "code",
   "execution_count": 135,
   "metadata": {},
   "outputs": [],
   "source": [
    "import pandas as pd\n",
    "import numpy as np\n",
    "import matplotlib.pyplot as plt"
   ]
  },
  {
   "cell_type": "markdown",
   "metadata": {},
   "source": [
    "## 1. Load and Preprocess Data"
   ]
  },
  {
   "cell_type": "markdown",
   "metadata": {},
   "source": [
    "We first load the Italy and USA data into separate dataframes."
   ]
  },
  {
   "cell_type": "code",
   "execution_count": 136,
   "metadata": {},
   "outputs": [],
   "source": [
    "italy_df = pd.read_excel('data/IMF_Italy.xlsx', header=1, index_col=0)\n",
    "usa_df = pd.read_excel('data/IMF_US.xlsx', header=1, index_col=0)"
   ]
  },
  {
   "cell_type": "markdown",
   "metadata": {},
   "source": [
    "### 1.1 Inspect Data"
   ]
  },
  {
   "cell_type": "code",
   "execution_count": 137,
   "metadata": {},
   "outputs": [
    {
     "data": {
      "text/html": [
       "<div>\n",
       "<style scoped>\n",
       "    .dataframe tbody tr th:only-of-type {\n",
       "        vertical-align: middle;\n",
       "    }\n",
       "\n",
       "    .dataframe tbody tr th {\n",
       "        vertical-align: top;\n",
       "    }\n",
       "\n",
       "    .dataframe thead th {\n",
       "        text-align: right;\n",
       "    }\n",
       "</style>\n",
       "<table border=\"1\" class=\"dataframe\">\n",
       "  <thead>\n",
       "    <tr style=\"text-align: right;\">\n",
       "      <th></th>\n",
       "      <th>Economic Activity, Industrial Production, Index</th>\n",
       "      <th>Exchange Rates, National Currency Per U.S. Dollar, Period Average, Rate</th>\n",
       "      <th>International Reserves and Liquidity, Reserves, Official Reserve Assets, US Dollar</th>\n",
       "      <th>Prices, Consumer Price Index, All items, Index</th>\n",
       "    </tr>\n",
       "  </thead>\n",
       "  <tbody>\n",
       "    <tr>\n",
       "      <th>Jan 1960</th>\n",
       "      <td>31.134278</td>\n",
       "      <td>621.118012</td>\n",
       "      <td>2989.5</td>\n",
       "      <td>4.143942</td>\n",
       "    </tr>\n",
       "    <tr>\n",
       "      <th>Feb 1960</th>\n",
       "      <td>32.602650</td>\n",
       "      <td>621.118012</td>\n",
       "      <td>2958.5</td>\n",
       "      <td>4.136754</td>\n",
       "    </tr>\n",
       "    <tr>\n",
       "      <th>Mar 1960</th>\n",
       "      <td>33.712883</td>\n",
       "      <td>620.600000</td>\n",
       "      <td>2923.5</td>\n",
       "      <td>4.129566</td>\n",
       "    </tr>\n",
       "    <tr>\n",
       "      <th>Apr 1960</th>\n",
       "      <td>33.891953</td>\n",
       "      <td>625.000001</td>\n",
       "      <td>2959.5</td>\n",
       "      <td>4.125971</td>\n",
       "    </tr>\n",
       "    <tr>\n",
       "      <th>May 1960</th>\n",
       "      <td>34.632109</td>\n",
       "      <td>625.000001</td>\n",
       "      <td>2970.5</td>\n",
       "      <td>4.133160</td>\n",
       "    </tr>\n",
       "  </tbody>\n",
       "</table>\n",
       "</div>"
      ],
      "text/plain": [
       "          Economic Activity, Industrial Production, Index  \\\n",
       "Jan 1960                                        31.134278   \n",
       "Feb 1960                                        32.602650   \n",
       "Mar 1960                                        33.712883   \n",
       "Apr 1960                                        33.891953   \n",
       "May 1960                                        34.632109   \n",
       "\n",
       "          Exchange Rates, National Currency Per U.S. Dollar, Period Average, Rate  \\\n",
       "Jan 1960                                         621.118012                         \n",
       "Feb 1960                                         621.118012                         \n",
       "Mar 1960                                         620.600000                         \n",
       "Apr 1960                                         625.000001                         \n",
       "May 1960                                         625.000001                         \n",
       "\n",
       "          International Reserves and Liquidity, Reserves, Official Reserve Assets, US Dollar  \\\n",
       "Jan 1960                                             2989.5                                    \n",
       "Feb 1960                                             2958.5                                    \n",
       "Mar 1960                                             2923.5                                    \n",
       "Apr 1960                                             2959.5                                    \n",
       "May 1960                                             2970.5                                    \n",
       "\n",
       "          Prices, Consumer Price Index, All items, Index  \n",
       "Jan 1960                                        4.143942  \n",
       "Feb 1960                                        4.136754  \n",
       "Mar 1960                                        4.129566  \n",
       "Apr 1960                                        4.125971  \n",
       "May 1960                                        4.133160  "
      ]
     },
     "execution_count": 137,
     "metadata": {},
     "output_type": "execute_result"
    }
   ],
   "source": [
    "italy_df.head()"
   ]
  },
  {
   "cell_type": "code",
   "execution_count": 138,
   "metadata": {},
   "outputs": [
    {
     "data": {
      "text/html": [
       "<div>\n",
       "<style scoped>\n",
       "    .dataframe tbody tr th:only-of-type {\n",
       "        vertical-align: middle;\n",
       "    }\n",
       "\n",
       "    .dataframe tbody tr th {\n",
       "        vertical-align: top;\n",
       "    }\n",
       "\n",
       "    .dataframe thead th {\n",
       "        text-align: right;\n",
       "    }\n",
       "</style>\n",
       "<table border=\"1\" class=\"dataframe\">\n",
       "  <thead>\n",
       "    <tr style=\"text-align: right;\">\n",
       "      <th></th>\n",
       "      <th>International Reserves and Liquidity, Reserves, Official Reserve Assets, US Dollar</th>\n",
       "      <th>Prices, Consumer Price Index, All items, Index</th>\n",
       "    </tr>\n",
       "  </thead>\n",
       "  <tbody>\n",
       "    <tr>\n",
       "      <th>Jan 1960</th>\n",
       "      <td>21478.1</td>\n",
       "      <td>13.436946</td>\n",
       "    </tr>\n",
       "    <tr>\n",
       "      <th>Feb 1960</th>\n",
       "      <td>21395.7</td>\n",
       "      <td>13.482806</td>\n",
       "    </tr>\n",
       "    <tr>\n",
       "      <th>Mar 1960</th>\n",
       "      <td>21344.7</td>\n",
       "      <td>13.482806</td>\n",
       "    </tr>\n",
       "    <tr>\n",
       "      <th>Apr 1960</th>\n",
       "      <td>21278.0</td>\n",
       "      <td>13.528666</td>\n",
       "    </tr>\n",
       "    <tr>\n",
       "      <th>May 1960</th>\n",
       "      <td>21234.3</td>\n",
       "      <td>13.528666</td>\n",
       "    </tr>\n",
       "  </tbody>\n",
       "</table>\n",
       "</div>"
      ],
      "text/plain": [
       "          International Reserves and Liquidity, Reserves, Official Reserve Assets, US Dollar  \\\n",
       "Jan 1960                                            21478.1                                    \n",
       "Feb 1960                                            21395.7                                    \n",
       "Mar 1960                                            21344.7                                    \n",
       "Apr 1960                                            21278.0                                    \n",
       "May 1960                                            21234.3                                    \n",
       "\n",
       "          Prices, Consumer Price Index, All items, Index  \n",
       "Jan 1960                                       13.436946  \n",
       "Feb 1960                                       13.482806  \n",
       "Mar 1960                                       13.482806  \n",
       "Apr 1960                                       13.528666  \n",
       "May 1960                                       13.528666  "
      ]
     },
     "execution_count": 138,
     "metadata": {},
     "output_type": "execute_result"
    }
   ],
   "source": [
    "usa_df.head()"
   ]
  },
  {
   "cell_type": "markdown",
   "metadata": {},
   "source": [
    "We will shorten the column names for easier inspection and reference:"
   ]
  },
  {
   "cell_type": "code",
   "execution_count": 139,
   "metadata": {},
   "outputs": [],
   "source": [
    "italy_df.columns = ['industrial_production_index', 'nominal_er_nat_currency_per_usd', 'reserves_in_usd', 'cpi']\n",
    "usa_df.columns = ['reserves_in_usd', 'cpi']"
   ]
  },
  {
   "cell_type": "code",
   "execution_count": 140,
   "metadata": {},
   "outputs": [
    {
     "data": {
      "text/html": [
       "<div>\n",
       "<style scoped>\n",
       "    .dataframe tbody tr th:only-of-type {\n",
       "        vertical-align: middle;\n",
       "    }\n",
       "\n",
       "    .dataframe tbody tr th {\n",
       "        vertical-align: top;\n",
       "    }\n",
       "\n",
       "    .dataframe thead th {\n",
       "        text-align: right;\n",
       "    }\n",
       "</style>\n",
       "<table border=\"1\" class=\"dataframe\">\n",
       "  <thead>\n",
       "    <tr style=\"text-align: right;\">\n",
       "      <th></th>\n",
       "      <th>industrial_production_index</th>\n",
       "      <th>nominal_er_nat_currency_per_usd</th>\n",
       "      <th>reserves_in_usd</th>\n",
       "      <th>cpi</th>\n",
       "    </tr>\n",
       "  </thead>\n",
       "  <tbody>\n",
       "    <tr>\n",
       "      <th>Jan 1960</th>\n",
       "      <td>31.134278</td>\n",
       "      <td>621.118012</td>\n",
       "      <td>2989.5</td>\n",
       "      <td>4.143942</td>\n",
       "    </tr>\n",
       "    <tr>\n",
       "      <th>Feb 1960</th>\n",
       "      <td>32.602650</td>\n",
       "      <td>621.118012</td>\n",
       "      <td>2958.5</td>\n",
       "      <td>4.136754</td>\n",
       "    </tr>\n",
       "    <tr>\n",
       "      <th>Mar 1960</th>\n",
       "      <td>33.712883</td>\n",
       "      <td>620.600000</td>\n",
       "      <td>2923.5</td>\n",
       "      <td>4.129566</td>\n",
       "    </tr>\n",
       "    <tr>\n",
       "      <th>Apr 1960</th>\n",
       "      <td>33.891953</td>\n",
       "      <td>625.000001</td>\n",
       "      <td>2959.5</td>\n",
       "      <td>4.125971</td>\n",
       "    </tr>\n",
       "    <tr>\n",
       "      <th>May 1960</th>\n",
       "      <td>34.632109</td>\n",
       "      <td>625.000001</td>\n",
       "      <td>2970.5</td>\n",
       "      <td>4.133160</td>\n",
       "    </tr>\n",
       "  </tbody>\n",
       "</table>\n",
       "</div>"
      ],
      "text/plain": [
       "          industrial_production_index  nominal_er_nat_currency_per_usd  \\\n",
       "Jan 1960                    31.134278                       621.118012   \n",
       "Feb 1960                    32.602650                       621.118012   \n",
       "Mar 1960                    33.712883                       620.600000   \n",
       "Apr 1960                    33.891953                       625.000001   \n",
       "May 1960                    34.632109                       625.000001   \n",
       "\n",
       "          reserves_in_usd       cpi  \n",
       "Jan 1960           2989.5  4.143942  \n",
       "Feb 1960           2958.5  4.136754  \n",
       "Mar 1960           2923.5  4.129566  \n",
       "Apr 1960           2959.5  4.125971  \n",
       "May 1960           2970.5  4.133160  "
      ]
     },
     "execution_count": 140,
     "metadata": {},
     "output_type": "execute_result"
    }
   ],
   "source": [
    "italy_df.head()"
   ]
  },
  {
   "cell_type": "code",
   "execution_count": 141,
   "metadata": {},
   "outputs": [
    {
     "data": {
      "text/html": [
       "<div>\n",
       "<style scoped>\n",
       "    .dataframe tbody tr th:only-of-type {\n",
       "        vertical-align: middle;\n",
       "    }\n",
       "\n",
       "    .dataframe tbody tr th {\n",
       "        vertical-align: top;\n",
       "    }\n",
       "\n",
       "    .dataframe thead th {\n",
       "        text-align: right;\n",
       "    }\n",
       "</style>\n",
       "<table border=\"1\" class=\"dataframe\">\n",
       "  <thead>\n",
       "    <tr style=\"text-align: right;\">\n",
       "      <th></th>\n",
       "      <th>reserves_in_usd</th>\n",
       "      <th>cpi</th>\n",
       "    </tr>\n",
       "  </thead>\n",
       "  <tbody>\n",
       "    <tr>\n",
       "      <th>Jan 1960</th>\n",
       "      <td>21478.1</td>\n",
       "      <td>13.436946</td>\n",
       "    </tr>\n",
       "    <tr>\n",
       "      <th>Feb 1960</th>\n",
       "      <td>21395.7</td>\n",
       "      <td>13.482806</td>\n",
       "    </tr>\n",
       "    <tr>\n",
       "      <th>Mar 1960</th>\n",
       "      <td>21344.7</td>\n",
       "      <td>13.482806</td>\n",
       "    </tr>\n",
       "    <tr>\n",
       "      <th>Apr 1960</th>\n",
       "      <td>21278.0</td>\n",
       "      <td>13.528666</td>\n",
       "    </tr>\n",
       "    <tr>\n",
       "      <th>May 1960</th>\n",
       "      <td>21234.3</td>\n",
       "      <td>13.528666</td>\n",
       "    </tr>\n",
       "  </tbody>\n",
       "</table>\n",
       "</div>"
      ],
      "text/plain": [
       "          reserves_in_usd        cpi\n",
       "Jan 1960          21478.1  13.436946\n",
       "Feb 1960          21395.7  13.482806\n",
       "Mar 1960          21344.7  13.482806\n",
       "Apr 1960          21278.0  13.528666\n",
       "May 1960          21234.3  13.528666"
      ]
     },
     "execution_count": 141,
     "metadata": {},
     "output_type": "execute_result"
    }
   ],
   "source": [
    "usa_df.head()"
   ]
  },
  {
   "cell_type": "markdown",
   "metadata": {},
   "source": [
    "### 1.2 Merge Data"
   ]
  },
  {
   "cell_type": "code",
   "execution_count": 142,
   "metadata": {},
   "outputs": [
    {
     "data": {
      "text/html": [
       "<div>\n",
       "<style scoped>\n",
       "    .dataframe tbody tr th:only-of-type {\n",
       "        vertical-align: middle;\n",
       "    }\n",
       "\n",
       "    .dataframe tbody tr th {\n",
       "        vertical-align: top;\n",
       "    }\n",
       "\n",
       "    .dataframe thead th {\n",
       "        text-align: right;\n",
       "    }\n",
       "</style>\n",
       "<table border=\"1\" class=\"dataframe\">\n",
       "  <thead>\n",
       "    <tr style=\"text-align: right;\">\n",
       "      <th></th>\n",
       "      <th>industrial_production_index</th>\n",
       "      <th>nominal_er_nat_currency_per_usd</th>\n",
       "      <th>reserves_in_usd_italy</th>\n",
       "      <th>cpi_italy</th>\n",
       "      <th>reserves_in_usd_usa</th>\n",
       "      <th>cpi_usa</th>\n",
       "    </tr>\n",
       "  </thead>\n",
       "  <tbody>\n",
       "    <tr>\n",
       "      <th>Jan 1960</th>\n",
       "      <td>31.134278</td>\n",
       "      <td>621.118012</td>\n",
       "      <td>2989.50</td>\n",
       "      <td>4.143942</td>\n",
       "      <td>21478.1</td>\n",
       "      <td>13.436946</td>\n",
       "    </tr>\n",
       "    <tr>\n",
       "      <th>Feb 1960</th>\n",
       "      <td>32.602650</td>\n",
       "      <td>621.118012</td>\n",
       "      <td>2958.50</td>\n",
       "      <td>4.136754</td>\n",
       "      <td>21395.7</td>\n",
       "      <td>13.482806</td>\n",
       "    </tr>\n",
       "    <tr>\n",
       "      <th>Mar 1960</th>\n",
       "      <td>33.712883</td>\n",
       "      <td>620.600000</td>\n",
       "      <td>2923.50</td>\n",
       "      <td>4.129566</td>\n",
       "      <td>21344.7</td>\n",
       "      <td>13.482806</td>\n",
       "    </tr>\n",
       "    <tr>\n",
       "      <th>Apr 1960</th>\n",
       "      <td>33.891953</td>\n",
       "      <td>625.000001</td>\n",
       "      <td>2959.50</td>\n",
       "      <td>4.125971</td>\n",
       "      <td>21278.0</td>\n",
       "      <td>13.528666</td>\n",
       "    </tr>\n",
       "    <tr>\n",
       "      <th>May 1960</th>\n",
       "      <td>34.632109</td>\n",
       "      <td>625.000001</td>\n",
       "      <td>2970.50</td>\n",
       "      <td>4.133160</td>\n",
       "      <td>21234.3</td>\n",
       "      <td>13.528666</td>\n",
       "    </tr>\n",
       "    <tr>\n",
       "      <th>Jun 1960</th>\n",
       "      <td>35.372264</td>\n",
       "      <td>625.000001</td>\n",
       "      <td>2997.50</td>\n",
       "      <td>4.133160</td>\n",
       "      <td>21169.8</td>\n",
       "      <td>13.574526</td>\n",
       "    </tr>\n",
       "    <tr>\n",
       "      <th>Jul 1960</th>\n",
       "      <td>33.891953</td>\n",
       "      <td>625.000001</td>\n",
       "      <td>3088.50</td>\n",
       "      <td>4.151131</td>\n",
       "      <td>20999.4</td>\n",
       "      <td>13.574526</td>\n",
       "    </tr>\n",
       "    <tr>\n",
       "      <th>Aug 1960</th>\n",
       "      <td>27.445439</td>\n",
       "      <td>625.000001</td>\n",
       "      <td>3201.50</td>\n",
       "      <td>4.158318</td>\n",
       "      <td>20803.4</td>\n",
       "      <td>13.574526</td>\n",
       "    </tr>\n",
       "    <tr>\n",
       "      <th>Sep 1960</th>\n",
       "      <td>35.002186</td>\n",
       "      <td>625.000001</td>\n",
       "      <td>3193.50</td>\n",
       "      <td>4.154724</td>\n",
       "      <td>20430.0</td>\n",
       "      <td>13.574526</td>\n",
       "    </tr>\n",
       "    <tr>\n",
       "      <th>Oct 1960</th>\n",
       "      <td>34.632109</td>\n",
       "      <td>625.000001</td>\n",
       "      <td>3174.50</td>\n",
       "      <td>4.154724</td>\n",
       "      <td>20068.2</td>\n",
       "      <td>13.666246</td>\n",
       "    </tr>\n",
       "    <tr>\n",
       "      <th>Nov 1960</th>\n",
       "      <td>35.730404</td>\n",
       "      <td>625.000001</td>\n",
       "      <td>3216.50</td>\n",
       "      <td>4.172694</td>\n",
       "      <td>19558.2</td>\n",
       "      <td>13.666246</td>\n",
       "    </tr>\n",
       "    <tr>\n",
       "      <th>Dec 1960</th>\n",
       "      <td>34.811178</td>\n",
       "      <td>625.000001</td>\n",
       "      <td>3250.50</td>\n",
       "      <td>4.179883</td>\n",
       "      <td>19358.8</td>\n",
       "      <td>13.666246</td>\n",
       "    </tr>\n",
       "    <tr>\n",
       "      <th>Jan 1961</th>\n",
       "      <td>34.441101</td>\n",
       "      <td>625.000001</td>\n",
       "      <td>3155.50</td>\n",
       "      <td>4.197853</td>\n",
       "      <td>19056.2</td>\n",
       "      <td>13.666246</td>\n",
       "    </tr>\n",
       "    <tr>\n",
       "      <th>Feb 1961</th>\n",
       "      <td>36.100481</td>\n",
       "      <td>625.000001</td>\n",
       "      <td>3103.50</td>\n",
       "      <td>4.197853</td>\n",
       "      <td>18978.0</td>\n",
       "      <td>13.666246</td>\n",
       "    </tr>\n",
       "    <tr>\n",
       "      <th>Mar 1961</th>\n",
       "      <td>36.661567</td>\n",
       "      <td>625.000001</td>\n",
       "      <td>3123.50</td>\n",
       "      <td>4.201447</td>\n",
       "      <td>18988.2</td>\n",
       "      <td>13.666246</td>\n",
       "    </tr>\n",
       "    <tr>\n",
       "      <th>Apr 1961</th>\n",
       "      <td>37.210714</td>\n",
       "      <td>625.000001</td>\n",
       "      <td>3148.50</td>\n",
       "      <td>4.208636</td>\n",
       "      <td>19165.1</td>\n",
       "      <td>13.666246</td>\n",
       "    </tr>\n",
       "    <tr>\n",
       "      <th>May 1961</th>\n",
       "      <td>37.950870</td>\n",
       "      <td>625.000001</td>\n",
       "      <td>3218.50</td>\n",
       "      <td>4.219418</td>\n",
       "      <td>19196.9</td>\n",
       "      <td>13.666246</td>\n",
       "    </tr>\n",
       "    <tr>\n",
       "      <th>Jun 1961</th>\n",
       "      <td>38.129940</td>\n",
       "      <td>625.000001</td>\n",
       "      <td>3328.50</td>\n",
       "      <td>4.219418</td>\n",
       "      <td>19307.9</td>\n",
       "      <td>13.666246</td>\n",
       "    </tr>\n",
       "    <tr>\n",
       "      <th>Jul 1961</th>\n",
       "      <td>37.210714</td>\n",
       "      <td>625.000001</td>\n",
       "      <td>3475.50</td>\n",
       "      <td>4.230199</td>\n",
       "      <td>19234.6</td>\n",
       "      <td>13.757965</td>\n",
       "    </tr>\n",
       "    <tr>\n",
       "      <th>Aug 1961</th>\n",
       "      <td>29.283889</td>\n",
       "      <td>625.000001</td>\n",
       "      <td>3703.75</td>\n",
       "      <td>4.237388</td>\n",
       "      <td>19641.5</td>\n",
       "      <td>13.712105</td>\n",
       "    </tr>\n",
       "  </tbody>\n",
       "</table>\n",
       "</div>"
      ],
      "text/plain": [
       "          industrial_production_index  nominal_er_nat_currency_per_usd  \\\n",
       "Jan 1960                    31.134278                       621.118012   \n",
       "Feb 1960                    32.602650                       621.118012   \n",
       "Mar 1960                    33.712883                       620.600000   \n",
       "Apr 1960                    33.891953                       625.000001   \n",
       "May 1960                    34.632109                       625.000001   \n",
       "Jun 1960                    35.372264                       625.000001   \n",
       "Jul 1960                    33.891953                       625.000001   \n",
       "Aug 1960                    27.445439                       625.000001   \n",
       "Sep 1960                    35.002186                       625.000001   \n",
       "Oct 1960                    34.632109                       625.000001   \n",
       "Nov 1960                    35.730404                       625.000001   \n",
       "Dec 1960                    34.811178                       625.000001   \n",
       "Jan 1961                    34.441101                       625.000001   \n",
       "Feb 1961                    36.100481                       625.000001   \n",
       "Mar 1961                    36.661567                       625.000001   \n",
       "Apr 1961                    37.210714                       625.000001   \n",
       "May 1961                    37.950870                       625.000001   \n",
       "Jun 1961                    38.129940                       625.000001   \n",
       "Jul 1961                    37.210714                       625.000001   \n",
       "Aug 1961                    29.283889                       625.000001   \n",
       "\n",
       "          reserves_in_usd_italy  cpi_italy  reserves_in_usd_usa    cpi_usa  \n",
       "Jan 1960                2989.50   4.143942              21478.1  13.436946  \n",
       "Feb 1960                2958.50   4.136754              21395.7  13.482806  \n",
       "Mar 1960                2923.50   4.129566              21344.7  13.482806  \n",
       "Apr 1960                2959.50   4.125971              21278.0  13.528666  \n",
       "May 1960                2970.50   4.133160              21234.3  13.528666  \n",
       "Jun 1960                2997.50   4.133160              21169.8  13.574526  \n",
       "Jul 1960                3088.50   4.151131              20999.4  13.574526  \n",
       "Aug 1960                3201.50   4.158318              20803.4  13.574526  \n",
       "Sep 1960                3193.50   4.154724              20430.0  13.574526  \n",
       "Oct 1960                3174.50   4.154724              20068.2  13.666246  \n",
       "Nov 1960                3216.50   4.172694              19558.2  13.666246  \n",
       "Dec 1960                3250.50   4.179883              19358.8  13.666246  \n",
       "Jan 1961                3155.50   4.197853              19056.2  13.666246  \n",
       "Feb 1961                3103.50   4.197853              18978.0  13.666246  \n",
       "Mar 1961                3123.50   4.201447              18988.2  13.666246  \n",
       "Apr 1961                3148.50   4.208636              19165.1  13.666246  \n",
       "May 1961                3218.50   4.219418              19196.9  13.666246  \n",
       "Jun 1961                3328.50   4.219418              19307.9  13.666246  \n",
       "Jul 1961                3475.50   4.230199              19234.6  13.757965  \n",
       "Aug 1961                3703.75   4.237388              19641.5  13.712105  "
      ]
     },
     "execution_count": 142,
     "metadata": {},
     "output_type": "execute_result"
    }
   ],
   "source": [
    "df = pd.merge(italy_df, usa_df, left_index=True, right_index=True, suffixes=('_italy', '_usa'))\n",
    "df.head(20)"
   ]
  },
  {
   "cell_type": "markdown",
   "metadata": {},
   "source": [
    "## 2. Identify Outliers"
   ]
  },
  {
   "cell_type": "markdown",
   "metadata": {},
   "source": [
    "To identify outliers, we will use the IQR method. This involves establishing an upper and lower \"fence\" equal to 1.5 times the IQR above the third quartile and below the first quartile, respectively. Any data points that fall outside these fences should be considered outliers.\n",
    "\n",
    "Fortunately, Matplotlib's boxplot function automatically visualises the presence of outliers in the indicators. We will create a boxplot for each indicator as a cursory inspection."
   ]
  },
  {
   "cell_type": "code",
   "execution_count": 144,
   "metadata": {},
   "outputs": [
    {
     "data": {
      "image/png": "[encoded data removed]",
      "text/plain": [
       "<Figure size 1080x720 with 6 Axes>"
      ]
     },
     "metadata": {
      "needs_background": "light"
     },
     "output_type": "display_data"
    }
   ],
   "source": [
    "fig, axes = plt.subplots(2, 3, figsize=(15, 10))\n",
    "axes = axes.flatten()\n",
    "\n",
    "for i, (col, ax) in enumerate(zip(df.columns, axes)):\n",
    "    ax.boxplot(df[col], showfliers=True)\n",
    "    ax.set_title(col)\n",
    "    ax.grid(True)\n",
    "plt.show()"
   ]
  },
  {
   "cell_type": "markdown",
   "metadata": {},
   "source": [
    "As seen above, there are a few outliers in the reserve value data for the USA."
   ]
  },
  {
   "cell_type": "markdown",
   "metadata": {},
   "source": [
    "### 2.1 Create fences for downloaded indicators"
   ]
  },
  {
   "cell_type": "code",
   "execution_count": 145,
   "metadata": {},
   "outputs": [
    {
     "data": {
      "text/plain": [
       "{'industrial_production_index': (-13.510820006722973, 157.13080683321542),\n",
       " 'nominal_er_nat_currency_per_usd': (-303.5037484375001, 2172.5062490625),\n",
       " 'reserves_in_usd_italy': (-53640.7712438552, 102466.26074725347),\n",
       " 'cpi_italy': (-36.96411504076126, 76.65163730045546),\n",
       " 'reserves_in_usd_usa': (-11144.341994445569, 60571.50332407595),\n",
       " 'cpi_usa': (-29.01210930244827, 89.53569160145011)}"
      ]
     },
     "execution_count": 145,
     "metadata": {},
     "output_type": "execute_result"
    }
   ],
   "source": [
    "fences = {}\n",
    "\n",
    "for column in df.columns:\n",
    "    iqr = df[column].quantile(0.75) - df[column].quantile(0.25)\n",
    "    lower_fence = df[column].quantile(0.25) - 1.5 * iqr\n",
    "    upper_fence = df[column].quantile(0.75) + 1.5 * iqr\n",
    "    fences[column] = (lower_fence, upper_fence)\n",
    "\n",
    "fences"
   ]
  },
  {
   "cell_type": "markdown",
   "metadata": {},
   "source": [
    "### 2.2 Count Outliers"
   ]
  },
  {
   "cell_type": "code",
   "execution_count": 164,
   "metadata": {},
   "outputs": [
    {
     "name": "stdout",
     "output_type": "stream",
     "text": [
      "industrial_production_index -- 0\n",
      "nominal_er_nat_currency_per_usd -- 0\n",
      "reserves_in_usd_italy -- 0\n",
      "cpi_italy -- 0\n",
      "reserves_in_usd_usa -- 18\n",
      "cpi_usa -- 0\n"
     ]
    }
   ],
   "source": [
    "for column in df.columns:\n",
    "    outlier_bool_array = (df[column] < fences[column][0]) | (df[column] > fences[column][1]) # boolean array checking if the value is outside the lower or upper fences\n",
    "    print(column, '--', outlier_bool_array.sum()) # sum() counts the number of True values in the boolean array\n",
    "    # df[column].mask(outlier_bool_array, np.nan) # replace the value with NaN if it is an outlier"
   ]
  },
  {
   "cell_type": "markdown",
   "metadata": {},
   "source": [
    "At first glance, there seem to be 18 outliers in US data! Closer inspection is required to determine whether these outliers should be removed, or whether they are valid data points representing significant events.\n",
    "\n",
    "We will print the rows with outlier values."
   ]
  },
  {
   "cell_type": "code",
   "execution_count": 168,
   "metadata": {},
   "outputs": [
    {
     "data": {
      "text/html": [
       "<div>\n",
       "<style scoped>\n",
       "    .dataframe tbody tr th:only-of-type {\n",
       "        vertical-align: middle;\n",
       "    }\n",
       "\n",
       "    .dataframe tbody tr th {\n",
       "        vertical-align: top;\n",
       "    }\n",
       "\n",
       "    .dataframe thead th {\n",
       "        text-align: right;\n",
       "    }\n",
       "</style>\n",
       "<table border=\"1\" class=\"dataframe\">\n",
       "  <thead>\n",
       "    <tr style=\"text-align: right;\">\n",
       "      <th></th>\n",
       "      <th>industrial_production_index</th>\n",
       "      <th>nominal_er_nat_currency_per_usd</th>\n",
       "      <th>reserves_in_usd_italy</th>\n",
       "      <th>cpi_italy</th>\n",
       "      <th>reserves_in_usd_usa</th>\n",
       "      <th>cpi_usa</th>\n",
       "    </tr>\n",
       "  </thead>\n",
       "  <tbody>\n",
       "    <tr>\n",
       "      <th>1989-07-01</th>\n",
       "      <td>109.244545</td>\n",
       "      <td>1371.00</td>\n",
       "      <td>66068.137119</td>\n",
       "      <td>52.505319</td>\n",
       "      <td>63462.210506</td>\n",
       "      <td>57.049696</td>\n",
       "    </tr>\n",
       "    <tr>\n",
       "      <th>1989-08-01</th>\n",
       "      <td>50.939403</td>\n",
       "      <td>1383.52</td>\n",
       "      <td>68448.797116</td>\n",
       "      <td>52.632454</td>\n",
       "      <td>62363.845992</td>\n",
       "      <td>57.141416</td>\n",
       "    </tr>\n",
       "    <tr>\n",
       "      <th>1989-09-01</th>\n",
       "      <td>113.780981</td>\n",
       "      <td>1405.30</td>\n",
       "      <td>72466.001011</td>\n",
       "      <td>52.886714</td>\n",
       "      <td>68417.495745</td>\n",
       "      <td>57.324855</td>\n",
       "    </tr>\n",
       "    <tr>\n",
       "      <th>1989-10-01</th>\n",
       "      <td>113.076640</td>\n",
       "      <td>1369.23</td>\n",
       "      <td>72381.127961</td>\n",
       "      <td>53.310487</td>\n",
       "      <td>70808.689361</td>\n",
       "      <td>57.600015</td>\n",
       "    </tr>\n",
       "    <tr>\n",
       "      <th>1989-11-01</th>\n",
       "      <td>115.297106</td>\n",
       "      <td>1343.54</td>\n",
       "      <td>69992.121702</td>\n",
       "      <td>53.607125</td>\n",
       "      <td>72559.751651</td>\n",
       "      <td>57.737594</td>\n",
       "    </tr>\n",
       "    <tr>\n",
       "      <th>1989-12-01</th>\n",
       "      <td>106.582373</td>\n",
       "      <td>1293.59</td>\n",
       "      <td>73215.703682</td>\n",
       "      <td>53.819016</td>\n",
       "      <td>74608.633269</td>\n",
       "      <td>57.829314</td>\n",
       "    </tr>\n",
       "    <tr>\n",
       "      <th>1990-01-01</th>\n",
       "      <td>102.786093</td>\n",
       "      <td>1262.49</td>\n",
       "      <td>72854.222487</td>\n",
       "      <td>54.327535</td>\n",
       "      <td>75506.361462</td>\n",
       "      <td>58.425493</td>\n",
       "    </tr>\n",
       "    <tr>\n",
       "      <th>1990-02-01</th>\n",
       "      <td>103.430808</td>\n",
       "      <td>1244.01</td>\n",
       "      <td>72632.169921</td>\n",
       "      <td>54.751309</td>\n",
       "      <td>74173.524868</td>\n",
       "      <td>58.700652</td>\n",
       "    </tr>\n",
       "    <tr>\n",
       "      <th>1990-03-01</th>\n",
       "      <td>114.390974</td>\n",
       "      <td>1257.29</td>\n",
       "      <td>77994.863959</td>\n",
       "      <td>54.963200</td>\n",
       "      <td>76303.028540</td>\n",
       "      <td>59.021671</td>\n",
       "    </tr>\n",
       "    <tr>\n",
       "      <th>1990-04-01</th>\n",
       "      <td>99.746719</td>\n",
       "      <td>1239.94</td>\n",
       "      <td>79600.735077</td>\n",
       "      <td>55.175082</td>\n",
       "      <td>76283.210610</td>\n",
       "      <td>59.113391</td>\n",
       "    </tr>\n",
       "    <tr>\n",
       "      <th>1990-05-01</th>\n",
       "      <td>111.996316</td>\n",
       "      <td>1221.50</td>\n",
       "      <td>85043.259200</td>\n",
       "      <td>55.344584</td>\n",
       "      <td>77028.366838</td>\n",
       "      <td>59.250971</td>\n",
       "    </tr>\n",
       "    <tr>\n",
       "      <th>1990-06-01</th>\n",
       "      <td>107.391204</td>\n",
       "      <td>1237.07</td>\n",
       "      <td>88709.851620</td>\n",
       "      <td>55.598855</td>\n",
       "      <td>77298.843254</td>\n",
       "      <td>59.571990</td>\n",
       "    </tr>\n",
       "    <tr>\n",
       "      <th>1990-07-01</th>\n",
       "      <td>110.706885</td>\n",
       "      <td>1201.70</td>\n",
       "      <td>92425.847923</td>\n",
       "      <td>55.768357</td>\n",
       "      <td>77906.286647</td>\n",
       "      <td>59.801289</td>\n",
       "    </tr>\n",
       "    <tr>\n",
       "      <th>1990-08-01</th>\n",
       "      <td>51.945660</td>\n",
       "      <td>1158.68</td>\n",
       "      <td>94282.568583</td>\n",
       "      <td>56.149763</td>\n",
       "      <td>78908.838357</td>\n",
       "      <td>60.351608</td>\n",
       "    </tr>\n",
       "    <tr>\n",
       "      <th>1990-09-01</th>\n",
       "      <td>105.180751</td>\n",
       "      <td>1171.70</td>\n",
       "      <td>92443.529313</td>\n",
       "      <td>56.446401</td>\n",
       "      <td>80024.166133</td>\n",
       "      <td>60.856066</td>\n",
       "    </tr>\n",
       "    <tr>\n",
       "      <th>1990-10-01</th>\n",
       "      <td>115.588303</td>\n",
       "      <td>1141.68</td>\n",
       "      <td>92157.185028</td>\n",
       "      <td>56.912541</td>\n",
       "      <td>82852.196532</td>\n",
       "      <td>61.222946</td>\n",
       "    </tr>\n",
       "    <tr>\n",
       "      <th>1990-11-01</th>\n",
       "      <td>106.193875</td>\n",
       "      <td>1116.31</td>\n",
       "      <td>87764.009459</td>\n",
       "      <td>57.251568</td>\n",
       "      <td>83059.402774</td>\n",
       "      <td>61.360525</td>\n",
       "    </tr>\n",
       "    <tr>\n",
       "      <th>1990-12-01</th>\n",
       "      <td>89.615473</td>\n",
       "      <td>1124.85</td>\n",
       "      <td>87840.106116</td>\n",
       "      <td>57.378693</td>\n",
       "      <td>83316.214608</td>\n",
       "      <td>61.360525</td>\n",
       "    </tr>\n",
       "  </tbody>\n",
       "</table>\n",
       "</div>"
      ],
      "text/plain": [
       "            industrial_production_index  nominal_er_nat_currency_per_usd  \\\n",
       "1989-07-01                   109.244545                          1371.00   \n",
       "1989-08-01                    50.939403                          1383.52   \n",
       "1989-09-01                   113.780981                          1405.30   \n",
       "1989-10-01                   113.076640                          1369.23   \n",
       "1989-11-01                   115.297106                          1343.54   \n",
       "1989-12-01                   106.582373                          1293.59   \n",
       "1990-01-01                   102.786093                          1262.49   \n",
       "1990-02-01                   103.430808                          1244.01   \n",
       "1990-03-01                   114.390974                          1257.29   \n",
       "1990-04-01                    99.746719                          1239.94   \n",
       "1990-05-01                   111.996316                          1221.50   \n",
       "1990-06-01                   107.391204                          1237.07   \n",
       "1990-07-01                   110.706885                          1201.70   \n",
       "1990-08-01                    51.945660                          1158.68   \n",
       "1990-09-01                   105.180751                          1171.70   \n",
       "1990-10-01                   115.588303                          1141.68   \n",
       "1990-11-01                   106.193875                          1116.31   \n",
       "1990-12-01                    89.615473                          1124.85   \n",
       "\n",
       "            reserves_in_usd_italy  cpi_italy  reserves_in_usd_usa    cpi_usa  \n",
       "1989-07-01           66068.137119  52.505319         63462.210506  57.049696  \n",
       "1989-08-01           68448.797116  52.632454         62363.845992  57.141416  \n",
       "1989-09-01           72466.001011  52.886714         68417.495745  57.324855  \n",
       "1989-10-01           72381.127961  53.310487         70808.689361  57.600015  \n",
       "1989-11-01           69992.121702  53.607125         72559.751651  57.737594  \n",
       "1989-12-01           73215.703682  53.819016         74608.633269  57.829314  \n",
       "1990-01-01           72854.222487  54.327535         75506.361462  58.425493  \n",
       "1990-02-01           72632.169921  54.751309         74173.524868  58.700652  \n",
       "1990-03-01           77994.863959  54.963200         76303.028540  59.021671  \n",
       "1990-04-01           79600.735077  55.175082         76283.210610  59.113391  \n",
       "1990-05-01           85043.259200  55.344584         77028.366838  59.250971  \n",
       "1990-06-01           88709.851620  55.598855         77298.843254  59.571990  \n",
       "1990-07-01           92425.847923  55.768357         77906.286647  59.801289  \n",
       "1990-08-01           94282.568583  56.149763         78908.838357  60.351608  \n",
       "1990-09-01           92443.529313  56.446401         80024.166133  60.856066  \n",
       "1990-10-01           92157.185028  56.912541         82852.196532  61.222946  \n",
       "1990-11-01           87764.009459  57.251568         83059.402774  61.360525  \n",
       "1990-12-01           87840.106116  57.378693         83316.214608  61.360525  "
      ]
     },
     "execution_count": 168,
     "metadata": {},
     "output_type": "execute_result"
    }
   ],
   "source": [
    "df[(df['reserves_in_usd_usa'] < fences['reserves_in_usd_usa'][0]) | (df['reserves_in_usd_usa'] > fences['reserves_in_usd_usa'][1])]"
   ]
  },
  {
   "cell_type": "markdown",
   "metadata": {},
   "source": [
    "These \"outliers\" correspond to the last 18 months of USA international reserve data. Hence, these datapoints represent a large rise in the reserve value, rather than an error in the data. They should hence be kept in the dataset."
   ]
  },
  {
   "cell_type": "code",
   "execution_count": 169,
   "metadata": {},
   "outputs": [
    {
     "data": {
      "text/plain": [
       "array([<Axes: >, <Axes: >, <Axes: >, <Axes: >, <Axes: >, <Axes: >],\n",
       "      dtype=object)"
      ]
     },
     "execution_count": 169,
     "metadata": {},
     "output_type": "execute_result"
    },
    {
     "data": {
      "image/png": "[encoded data removed]",
      "text/plain": [
       "<Figure size 1080x720 with 6 Axes>"
      ]
     },
     "metadata": {
      "needs_background": "light"
     },
     "output_type": "display_data"
    }
   ],
   "source": [
    "df.plot(subplots=True, figsize=(15, 10))"
   ]
  },
  {
   "cell_type": "markdown",
   "metadata": {},
   "source": [
    "## 3. Construct Variables"
   ]
  },
  {
   "cell_type": "markdown",
   "metadata": {},
   "source": [
    "We will now construct the following variables as per the coursework instructions:\n",
    "\n",
    "1. The monthly growth in the nominal exchange rate\n",
    "2. The real exchange rate\n",
    "3. The monthly growth in the real exchange rate\n",
    "4. The monthly inflation rate\n",
    "5. The monthly growth in industrial production\n",
    "6. The growth in industrial production versus 12 months ago (i.e. January 1971 versus January 1970 etc.)\n",
    "7. An index of the value of international reserves (value of reserves at January 1960 = 100)\n",
    "\n",
    "These will go into a separate dataframe."
   ]
  },
  {
   "cell_type": "markdown",
   "metadata": {},
   "source": [
    "### 3.1 Monthly Nominal Exchange Rate Growth"
   ]
  },
  {
   "cell_type": "markdown",
   "metadata": {},
   "source": [
    "The monthly growth in the nominal exchange rate is calculated as the percentage change in the nominal exchange rate from the previous month.\n",
    "\n",
    "$$ \\text{Monthly NER Growth} = \\frac{ER_t - ER_{t-1}}{ER_{t-1}} \\times 100 $$\n",
    "\n",
    "We can use the `pct_change()` method in `pandas` to calculate this."
   ]
  },
  {
   "cell_type": "code",
   "execution_count": 148,
   "metadata": {},
   "outputs": [],
   "source": [
    "variables_df = pd.DataFrame()\n",
    "variables_df['nominal_er_growth_rate'] = df['nominal_er_nat_currency_per_usd'].pct_change() * 100"
   ]
  },
  {
   "cell_type": "markdown",
   "metadata": {},
   "source": [
    "### 3.2 Real Exchange Rate"
   ]
  },
  {
   "cell_type": "markdown",
   "metadata": {},
   "source": [
    "We note that the nominal exchange rate is calculated as the number of Italian Lira per 1 US Dollar.\n",
    "\n",
    "The real exchange rate is calculated as the nominal exchange rate multiplied by the ratio of the price index in Italy to the price index in the USA."
   ]
  },
  {
   "cell_type": "markdown",
   "metadata": {},
   "source": [
    "$$ ER_{real} = ER_{nominal} \\times \\frac{P_{Italy}}{P_{US}} $$"
   ]
  },
  {
   "cell_type": "code",
   "execution_count": 149,
   "metadata": {},
   "outputs": [],
   "source": [
    "variables_df['real_er_nat_currency_per_usd'] = df['nominal_er_nat_currency_per_usd'] * df['cpi_italy'] / df['cpi_usa']"
   ]
  },
  {
   "cell_type": "markdown",
   "metadata": {},
   "source": [
    "### 3.3 Monthly Real Exchange Rate Growth"
   ]
  },
  {
   "cell_type": "markdown",
   "metadata": {},
   "source": [
    "We can use the same method as in 3.1 to calculate the monthly growth in the real exchange rate."
   ]
  },
  {
   "cell_type": "code",
   "execution_count": 150,
   "metadata": {},
   "outputs": [],
   "source": [
    "variables_df['real_er_growth_rate'] = variables_df['real_er_nat_currency_per_usd'].pct_change() * 100"
   ]
  },
  {
   "cell_type": "markdown",
   "metadata": {},
   "source": [
    "### 3.4 Monthly Inflation Rate (Italy and USA)"
   ]
  },
  {
   "cell_type": "markdown",
   "metadata": {},
   "source": [
    "$$ \\pi = \\frac{CPI_t - CPI_{t-1}}{CPI_{t-1}}  $$"
   ]
  },
  {
   "cell_type": "code",
   "execution_count": 151,
   "metadata": {},
   "outputs": [],
   "source": [
    "variables_df['inflation_rate_italy'] = df['cpi_italy'].pct_change() * 100\n",
    "variables_df['inflation_rate_usa'] = df['cpi_usa'].pct_change() * 100"
   ]
  },
  {
   "cell_type": "markdown",
   "metadata": {},
   "source": [
    "### 3.5 Monthly Growth in Industrial Production"
   ]
  },
  {
   "cell_type": "code",
   "execution_count": 152,
   "metadata": {},
   "outputs": [],
   "source": [
    "variables_df['industrial_production_1m_growth_rate'] = df['industrial_production_index'].pct_change() * 100"
   ]
  },
  {
   "cell_type": "markdown",
   "metadata": {},
   "source": [
    "### 3.6 Growth in Industrial Production versus 12 months ago"
   ]
  },
  {
   "cell_type": "markdown",
   "metadata": {},
   "source": [
    "To measure the growth in industrial production versus 12 months ago, we can override the `periods` parameter (which has a default of 1) in the `pct_change()` method."
   ]
  },
  {
   "cell_type": "code",
   "execution_count": 153,
   "metadata": {},
   "outputs": [],
   "source": [
    "variables_df['industrial_production_12m_growth_rate'] = df['industrial_production_index'].pct_change(periods=12) * 100"
   ]
  },
  {
   "cell_type": "markdown",
   "metadata": {},
   "source": [
    "### 3.7 Index of the Value of International Reserves"
   ]
  },
  {
   "cell_type": "markdown",
   "metadata": {},
   "source": [
    "To calculate the indexed value of international reserves in a particular month, we can use the following formula:\n",
    "\n",
    "$$ \\text{Indexed Reserves} = \\frac{\\text{Reserves in Month}}{\\text{Reserves in January 1960}} \\times 100 $$"
   ]
  },
  {
   "cell_type": "code",
   "execution_count": 154,
   "metadata": {},
   "outputs": [],
   "source": [
    "jan_1960_reserves_italy = df['reserves_in_usd_italy'].iloc[0]\n",
    "variables_df['reserves_index_italy'] = df['reserves_in_usd_italy'] / jan_1960_reserves_italy * 100\n",
    "\n",
    "jan_1960_reserves_usa = df['reserves_in_usd_usa'].iloc[0]\n",
    "variables_df['reserves_index_usa'] = df['reserves_in_usd_usa'] / jan_1960_reserves_usa * 100"
   ]
  },
  {
   "cell_type": "code",
   "execution_count": 155,
   "metadata": {},
   "outputs": [
    {
     "data": {
      "text/html": [
       "<div>\n",
       "<style scoped>\n",
       "    .dataframe tbody tr th:only-of-type {\n",
       "        vertical-align: middle;\n",
       "    }\n",
       "\n",
       "    .dataframe tbody tr th {\n",
       "        vertical-align: top;\n",
       "    }\n",
       "\n",
       "    .dataframe thead th {\n",
       "        text-align: right;\n",
       "    }\n",
       "</style>\n",
       "<table border=\"1\" class=\"dataframe\">\n",
       "  <thead>\n",
       "    <tr style=\"text-align: right;\">\n",
       "      <th></th>\n",
       "      <th>nominal_er_growth_rate</th>\n",
       "      <th>real_er_nat_currency_per_usd</th>\n",
       "      <th>real_er_growth_rate</th>\n",
       "      <th>inflation_rate_italy</th>\n",
       "      <th>inflation_rate_usa</th>\n",
       "      <th>industrial_production_1m_growth_rate</th>\n",
       "      <th>industrial_production_12m_growth_rate</th>\n",
       "      <th>reserves_index_italy</th>\n",
       "      <th>reserves_index_usa</th>\n",
       "    </tr>\n",
       "  </thead>\n",
       "  <tbody>\n",
       "    <tr>\n",
       "      <th>Jan 1960</th>\n",
       "      <td>NaN</td>\n",
       "      <td>191.552239</td>\n",
       "      <td>NaN</td>\n",
       "      <td>NaN</td>\n",
       "      <td>NaN</td>\n",
       "      <td>NaN</td>\n",
       "      <td>NaN</td>\n",
       "      <td>100.000000</td>\n",
       "      <td>100.000000</td>\n",
       "    </tr>\n",
       "    <tr>\n",
       "      <th>Feb 1960</th>\n",
       "      <td>0.000000</td>\n",
       "      <td>190.569544</td>\n",
       "      <td>-0.513017</td>\n",
       "      <td>-0.173471</td>\n",
       "      <td>0.341297</td>\n",
       "      <td>4.716258</td>\n",
       "      <td>NaN</td>\n",
       "      <td>98.963037</td>\n",
       "      <td>99.616353</td>\n",
       "    </tr>\n",
       "    <tr>\n",
       "      <th>Mar 1960</th>\n",
       "      <td>-0.083400</td>\n",
       "      <td>190.079779</td>\n",
       "      <td>-0.257001</td>\n",
       "      <td>-0.173746</td>\n",
       "      <td>0.000000</td>\n",
       "      <td>3.405346</td>\n",
       "      <td>NaN</td>\n",
       "      <td>97.792273</td>\n",
       "      <td>99.378902</td>\n",
       "    </tr>\n",
       "    <tr>\n",
       "      <th>Apr 1960</th>\n",
       "      <td>0.708991</td>\n",
       "      <td>190.612448</td>\n",
       "      <td>0.280235</td>\n",
       "      <td>-0.087050</td>\n",
       "      <td>0.340136</td>\n",
       "      <td>0.531161</td>\n",
       "      <td>NaN</td>\n",
       "      <td>98.996488</td>\n",
       "      <td>99.068353</td>\n",
       "    </tr>\n",
       "    <tr>\n",
       "      <th>May 1960</th>\n",
       "      <td>0.000000</td>\n",
       "      <td>190.944545</td>\n",
       "      <td>0.174226</td>\n",
       "      <td>0.174226</td>\n",
       "      <td>0.000000</td>\n",
       "      <td>2.183868</td>\n",
       "      <td>NaN</td>\n",
       "      <td>99.364442</td>\n",
       "      <td>98.864890</td>\n",
       "    </tr>\n",
       "    <tr>\n",
       "      <th>...</th>\n",
       "      <td>...</td>\n",
       "      <td>...</td>\n",
       "      <td>...</td>\n",
       "      <td>...</td>\n",
       "      <td>...</td>\n",
       "      <td>...</td>\n",
       "      <td>...</td>\n",
       "      <td>...</td>\n",
       "      <td>...</td>\n",
       "    </tr>\n",
       "    <tr>\n",
       "      <th>Aug 1990</th>\n",
       "      <td>-3.579928</td>\n",
       "      <td>1078.009512</td>\n",
       "      <td>-3.805725</td>\n",
       "      <td>0.683910</td>\n",
       "      <td>0.920245</td>\n",
       "      <td>-53.078203</td>\n",
       "      <td>1.975400</td>\n",
       "      <td>3153.790553</td>\n",
       "      <td>367.392080</td>\n",
       "    </tr>\n",
       "    <tr>\n",
       "      <th>Sep 1990</th>\n",
       "      <td>1.123692</td>\n",
       "      <td>1086.797941</td>\n",
       "      <td>0.815246</td>\n",
       "      <td>0.528298</td>\n",
       "      <td>0.835866</td>\n",
       "      <td>102.482270</td>\n",
       "      <td>-7.558584</td>\n",
       "      <td>3092.273936</td>\n",
       "      <td>372.584941</td>\n",
       "    </tr>\n",
       "    <tr>\n",
       "      <th>Oct 1990</th>\n",
       "      <td>-2.562089</td>\n",
       "      <td>1061.299970</td>\n",
       "      <td>-2.346156</td>\n",
       "      <td>0.825811</td>\n",
       "      <td>0.602864</td>\n",
       "      <td>9.894921</td>\n",
       "      <td>2.221204</td>\n",
       "      <td>3082.695602</td>\n",
       "      <td>385.751982</td>\n",
       "    </tr>\n",
       "    <tr>\n",
       "      <th>Nov 1990</th>\n",
       "      <td>-2.222164</td>\n",
       "      <td>1041.557226</td>\n",
       "      <td>-1.860242</td>\n",
       "      <td>0.595698</td>\n",
       "      <td>0.224719</td>\n",
       "      <td>-8.127490</td>\n",
       "      <td>-7.895455</td>\n",
       "      <td>2935.742079</td>\n",
       "      <td>386.716715</td>\n",
       "    </tr>\n",
       "    <tr>\n",
       "      <th>Dec 1990</th>\n",
       "      <td>0.765020</td>\n",
       "      <td>1051.855773</td>\n",
       "      <td>0.988764</td>\n",
       "      <td>0.222045</td>\n",
       "      <td>0.000000</td>\n",
       "      <td>-15.611448</td>\n",
       "      <td>-15.919049</td>\n",
       "      <td>2938.287544</td>\n",
       "      <td>387.912407</td>\n",
       "    </tr>\n",
       "  </tbody>\n",
       "</table>\n",
       "<p>372 rows × 9 columns</p>\n",
       "</div>"
      ],
      "text/plain": [
       "          nominal_er_growth_rate  real_er_nat_currency_per_usd  \\\n",
       "Jan 1960                     NaN                    191.552239   \n",
       "Feb 1960                0.000000                    190.569544   \n",
       "Mar 1960               -0.083400                    190.079779   \n",
       "Apr 1960                0.708991                    190.612448   \n",
       "May 1960                0.000000                    190.944545   \n",
       "...                          ...                           ...   \n",
       "Aug 1990               -3.579928                   1078.009512   \n",
       "Sep 1990                1.123692                   1086.797941   \n",
       "Oct 1990               -2.562089                   1061.299970   \n",
       "Nov 1990               -2.222164                   1041.557226   \n",
       "Dec 1990                0.765020                   1051.855773   \n",
       "\n",
       "          real_er_growth_rate  inflation_rate_italy  inflation_rate_usa  \\\n",
       "Jan 1960                  NaN                   NaN                 NaN   \n",
       "Feb 1960            -0.513017             -0.173471            0.341297   \n",
       "Mar 1960            -0.257001             -0.173746            0.000000   \n",
       "Apr 1960             0.280235             -0.087050            0.340136   \n",
       "May 1960             0.174226              0.174226            0.000000   \n",
       "...                       ...                   ...                 ...   \n",
       "Aug 1990            -3.805725              0.683910            0.920245   \n",
       "Sep 1990             0.815246              0.528298            0.835866   \n",
       "Oct 1990            -2.346156              0.825811            0.602864   \n",
       "Nov 1990            -1.860242              0.595698            0.224719   \n",
       "Dec 1990             0.988764              0.222045            0.000000   \n",
       "\n",
       "          industrial_production_1m_growth_rate  \\\n",
       "Jan 1960                                   NaN   \n",
       "Feb 1960                              4.716258   \n",
       "Mar 1960                              3.405346   \n",
       "Apr 1960                              0.531161   \n",
       "May 1960                              2.183868   \n",
       "...                                        ...   \n",
       "Aug 1990                            -53.078203   \n",
       "Sep 1990                            102.482270   \n",
       "Oct 1990                              9.894921   \n",
       "Nov 1990                             -8.127490   \n",
       "Dec 1990                            -15.611448   \n",
       "\n",
       "          industrial_production_12m_growth_rate  reserves_index_italy  \\\n",
       "Jan 1960                                    NaN            100.000000   \n",
       "Feb 1960                                    NaN             98.963037   \n",
       "Mar 1960                                    NaN             97.792273   \n",
       "Apr 1960                                    NaN             98.996488   \n",
       "May 1960                                    NaN             99.364442   \n",
       "...                                         ...                   ...   \n",
       "Aug 1990                               1.975400           3153.790553   \n",
       "Sep 1990                              -7.558584           3092.273936   \n",
       "Oct 1990                               2.221204           3082.695602   \n",
       "Nov 1990                              -7.895455           2935.742079   \n",
       "Dec 1990                             -15.919049           2938.287544   \n",
       "\n",
       "          reserves_index_usa  \n",
       "Jan 1960          100.000000  \n",
       "Feb 1960           99.616353  \n",
       "Mar 1960           99.378902  \n",
       "Apr 1960           99.068353  \n",
       "May 1960           98.864890  \n",
       "...                      ...  \n",
       "Aug 1990          367.392080  \n",
       "Sep 1990          372.584941  \n",
       "Oct 1990          385.751982  \n",
       "Nov 1990          386.716715  \n",
       "Dec 1990          387.912407  \n",
       "\n",
       "[372 rows x 9 columns]"
      ]
     },
     "execution_count": 155,
     "metadata": {},
     "output_type": "execute_result"
    }
   ],
   "source": [
    "variables_df"
   ]
  },
  {
   "cell_type": "code",
   "execution_count": null,
   "metadata": {},
   "outputs": [],
   "source": []
  },
  {
   "cell_type": "code",
   "execution_count": 156,
   "metadata": {},
   "outputs": [],
   "source": [
    "df.index = pd.to_datetime(df.index)"
   ]
  },
  {
   "cell_type": "markdown",
   "metadata": {},
   "source": [
    "## 4. Handling Missing Data"
   ]
  },
  {
   "cell_type": "markdown",
   "metadata": {},
   "source": [
    "From before, the only "
   ]
  }
 ],
 "metadata": {
  "kernelspec": {
   "display_name": "ds105",
   "language": "python",
   "name": "python3"
  },
  "language_info": {
   "codemirror_mode": {
    "name": "ipython",
    "version": 3
   },
   "file_extension": ".py",
   "mimetype": "text/x-python",
   "name": "python",
   "nbconvert_exporter": "python",
   "pygments_lexer": "ipython3",
   "version": "3.10.6"
  }
 },
 "nbformat": 4,
 "nbformat_minor": 2
}
