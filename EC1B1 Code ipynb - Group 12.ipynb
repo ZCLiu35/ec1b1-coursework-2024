{
 "cells": [
  {
   "cell_type": "markdown",
   "metadata": {},
   "source": [
    "# EC1B1 Macroeconomics Coursework - Code"
   ]
  },
  {
   "cell_type": "markdown",
   "metadata": {},
   "source": [
    "This notebook contains all the code for our EC1B1 Macroeconomics coursework. The code is divided into the following sections:"
   ]
  },
  {
   "cell_type": "markdown",
   "metadata": {},
   "source": [
    "## 0. Import Libraries"
   ]
  },
  {
   "cell_type": "code",
   "execution_count": 28,
   "metadata": {},
   "outputs": [],
   "source": [
    "import pandas as pd\n",
    "import numpy as np\n",
    "import json\n",
    "import matplotlib.pyplot as plt"
   ]
  },
  {
   "cell_type": "markdown",
   "metadata": {},
   "source": [
    "## 1. Load and Preprocess Data"
   ]
  },
  {
   "cell_type": "markdown",
   "metadata": {},
   "source": [
    "We first load the Italy and USA data into separate dataframes."
   ]
  },
  {
   "cell_type": "code",
   "execution_count": 29,
   "metadata": {},
   "outputs": [],
   "source": [
    "italy_df = pd.read_excel('data/IMF_Italy.xlsx', header=1, index_col=0)\n",
    "usa_df = pd.read_excel('data/IMF_US.xlsx', header=1, index_col=0)"
   ]
  },
  {
   "cell_type": "markdown",
   "metadata": {},
   "source": [
    "### 1.1 Inspect Data"
   ]
  },
  {
   "cell_type": "code",
   "execution_count": 30,
   "metadata": {},
   "outputs": [
    {
     "data": {
      "text/html": [
       "<div>\n",
       "<style scoped>\n",
       "    .dataframe tbody tr th:only-of-type {\n",
       "        vertical-align: middle;\n",
       "    }\n",
       "\n",
       "    .dataframe tbody tr th {\n",
       "        vertical-align: top;\n",
       "    }\n",
       "\n",
       "    .dataframe thead th {\n",
       "        text-align: right;\n",
       "    }\n",
       "</style>\n",
       "<table border=\"1\" class=\"dataframe\">\n",
       "  <thead>\n",
       "    <tr style=\"text-align: right;\">\n",
       "      <th></th>\n",
       "      <th>Economic Activity, Industrial Production, Index</th>\n",
       "      <th>Exchange Rates, National Currency Per U.S. Dollar, Period Average, Rate</th>\n",
       "      <th>International Reserves and Liquidity, Reserves, Official Reserve Assets, US Dollar</th>\n",
       "      <th>Prices, Consumer Price Index, All items, Index</th>\n",
       "    </tr>\n",
       "  </thead>\n",
       "  <tbody>\n",
       "    <tr>\n",
       "      <th>Jan 1960</th>\n",
       "      <td>31.134278</td>\n",
       "      <td>621.118012</td>\n",
       "      <td>2989.5</td>\n",
       "      <td>4.143942</td>\n",
       "    </tr>\n",
       "    <tr>\n",
       "      <th>Feb 1960</th>\n",
       "      <td>32.602650</td>\n",
       "      <td>621.118012</td>\n",
       "      <td>2958.5</td>\n",
       "      <td>4.136754</td>\n",
       "    </tr>\n",
       "    <tr>\n",
       "      <th>Mar 1960</th>\n",
       "      <td>33.712883</td>\n",
       "      <td>620.600000</td>\n",
       "      <td>2923.5</td>\n",
       "      <td>4.129566</td>\n",
       "    </tr>\n",
       "    <tr>\n",
       "      <th>Apr 1960</th>\n",
       "      <td>33.891953</td>\n",
       "      <td>625.000001</td>\n",
       "      <td>2959.5</td>\n",
       "      <td>4.125971</td>\n",
       "    </tr>\n",
       "    <tr>\n",
       "      <th>May 1960</th>\n",
       "      <td>34.632109</td>\n",
       "      <td>625.000001</td>\n",
       "      <td>2970.5</td>\n",
       "      <td>4.133160</td>\n",
       "    </tr>\n",
       "  </tbody>\n",
       "</table>\n",
       "</div>"
      ],
      "text/plain": [
       "          Economic Activity, Industrial Production, Index  \\\n",
       "Jan 1960                                        31.134278   \n",
       "Feb 1960                                        32.602650   \n",
       "Mar 1960                                        33.712883   \n",
       "Apr 1960                                        33.891953   \n",
       "May 1960                                        34.632109   \n",
       "\n",
       "          Exchange Rates, National Currency Per U.S. Dollar, Period Average, Rate  \\\n",
       "Jan 1960                                         621.118012                         \n",
       "Feb 1960                                         621.118012                         \n",
       "Mar 1960                                         620.600000                         \n",
       "Apr 1960                                         625.000001                         \n",
       "May 1960                                         625.000001                         \n",
       "\n",
       "          International Reserves and Liquidity, Reserves, Official Reserve Assets, US Dollar  \\\n",
       "Jan 1960                                             2989.5                                    \n",
       "Feb 1960                                             2958.5                                    \n",
       "Mar 1960                                             2923.5                                    \n",
       "Apr 1960                                             2959.5                                    \n",
       "May 1960                                             2970.5                                    \n",
       "\n",
       "          Prices, Consumer Price Index, All items, Index  \n",
       "Jan 1960                                        4.143942  \n",
       "Feb 1960                                        4.136754  \n",
       "Mar 1960                                        4.129566  \n",
       "Apr 1960                                        4.125971  \n",
       "May 1960                                        4.133160  "
      ]
     },
     "execution_count": 30,
     "metadata": {},
     "output_type": "execute_result"
    }
   ],
   "source": [
    "italy_df.head()"
   ]
  },
  {
   "cell_type": "code",
   "execution_count": 31,
   "metadata": {},
   "outputs": [
    {
     "data": {
      "text/html": [
       "<div>\n",
       "<style scoped>\n",
       "    .dataframe tbody tr th:only-of-type {\n",
       "        vertical-align: middle;\n",
       "    }\n",
       "\n",
       "    .dataframe tbody tr th {\n",
       "        vertical-align: top;\n",
       "    }\n",
       "\n",
       "    .dataframe thead th {\n",
       "        text-align: right;\n",
       "    }\n",
       "</style>\n",
       "<table border=\"1\" class=\"dataframe\">\n",
       "  <thead>\n",
       "    <tr style=\"text-align: right;\">\n",
       "      <th></th>\n",
       "      <th>International Reserves and Liquidity, Reserves, Official Reserve Assets, US Dollar</th>\n",
       "      <th>Prices, Consumer Price Index, All items, Index</th>\n",
       "    </tr>\n",
       "  </thead>\n",
       "  <tbody>\n",
       "    <tr>\n",
       "      <th>Jan 1960</th>\n",
       "      <td>21478.1</td>\n",
       "      <td>13.436946</td>\n",
       "    </tr>\n",
       "    <tr>\n",
       "      <th>Feb 1960</th>\n",
       "      <td>21395.7</td>\n",
       "      <td>13.482806</td>\n",
       "    </tr>\n",
       "    <tr>\n",
       "      <th>Mar 1960</th>\n",
       "      <td>21344.7</td>\n",
       "      <td>13.482806</td>\n",
       "    </tr>\n",
       "    <tr>\n",
       "      <th>Apr 1960</th>\n",
       "      <td>21278.0</td>\n",
       "      <td>13.528666</td>\n",
       "    </tr>\n",
       "    <tr>\n",
       "      <th>May 1960</th>\n",
       "      <td>21234.3</td>\n",
       "      <td>13.528666</td>\n",
       "    </tr>\n",
       "  </tbody>\n",
       "</table>\n",
       "</div>"
      ],
      "text/plain": [
       "          International Reserves and Liquidity, Reserves, Official Reserve Assets, US Dollar  \\\n",
       "Jan 1960                                            21478.1                                    \n",
       "Feb 1960                                            21395.7                                    \n",
       "Mar 1960                                            21344.7                                    \n",
       "Apr 1960                                            21278.0                                    \n",
       "May 1960                                            21234.3                                    \n",
       "\n",
       "          Prices, Consumer Price Index, All items, Index  \n",
       "Jan 1960                                       13.436946  \n",
       "Feb 1960                                       13.482806  \n",
       "Mar 1960                                       13.482806  \n",
       "Apr 1960                                       13.528666  \n",
       "May 1960                                       13.528666  "
      ]
     },
     "execution_count": 31,
     "metadata": {},
     "output_type": "execute_result"
    }
   ],
   "source": [
    "usa_df.head()"
   ]
  },
  {
   "cell_type": "markdown",
   "metadata": {},
   "source": [
    "We will shorten the column names for easier inspection and reference:"
   ]
  },
  {
   "cell_type": "code",
   "execution_count": 32,
   "metadata": {},
   "outputs": [],
   "source": [
    "italy_df.columns = ['industrial_production_index', 'nominal_er_nat_currency_per_usd', 'reserves_in_usd', 'cpi']\n",
    "usa_df.columns = ['reserves_in_usd', 'cpi_index']"
   ]
  },
  {
   "cell_type": "code",
   "execution_count": 33,
   "metadata": {},
   "outputs": [
    {
     "data": {
      "text/html": [
       "<div>\n",
       "<style scoped>\n",
       "    .dataframe tbody tr th:only-of-type {\n",
       "        vertical-align: middle;\n",
       "    }\n",
       "\n",
       "    .dataframe tbody tr th {\n",
       "        vertical-align: top;\n",
       "    }\n",
       "\n",
       "    .dataframe thead th {\n",
       "        text-align: right;\n",
       "    }\n",
       "</style>\n",
       "<table border=\"1\" class=\"dataframe\">\n",
       "  <thead>\n",
       "    <tr style=\"text-align: right;\">\n",
       "      <th></th>\n",
       "      <th>industrial_production_index</th>\n",
       "      <th>nominal_er_nat_currency_per_usd</th>\n",
       "      <th>reserves_in_usd</th>\n",
       "      <th>cpi_index</th>\n",
       "    </tr>\n",
       "  </thead>\n",
       "  <tbody>\n",
       "    <tr>\n",
       "      <th>Jan 1960</th>\n",
       "      <td>31.134278</td>\n",
       "      <td>621.118012</td>\n",
       "      <td>2989.5</td>\n",
       "      <td>4.143942</td>\n",
       "    </tr>\n",
       "    <tr>\n",
       "      <th>Feb 1960</th>\n",
       "      <td>32.602650</td>\n",
       "      <td>621.118012</td>\n",
       "      <td>2958.5</td>\n",
       "      <td>4.136754</td>\n",
       "    </tr>\n",
       "    <tr>\n",
       "      <th>Mar 1960</th>\n",
       "      <td>33.712883</td>\n",
       "      <td>620.600000</td>\n",
       "      <td>2923.5</td>\n",
       "      <td>4.129566</td>\n",
       "    </tr>\n",
       "    <tr>\n",
       "      <th>Apr 1960</th>\n",
       "      <td>33.891953</td>\n",
       "      <td>625.000001</td>\n",
       "      <td>2959.5</td>\n",
       "      <td>4.125971</td>\n",
       "    </tr>\n",
       "    <tr>\n",
       "      <th>May 1960</th>\n",
       "      <td>34.632109</td>\n",
       "      <td>625.000001</td>\n",
       "      <td>2970.5</td>\n",
       "      <td>4.133160</td>\n",
       "    </tr>\n",
       "  </tbody>\n",
       "</table>\n",
       "</div>"
      ],
      "text/plain": [
       "          industrial_production_index  nominal_er_nat_currency_per_usd  \\\n",
       "Jan 1960                    31.134278                       621.118012   \n",
       "Feb 1960                    32.602650                       621.118012   \n",
       "Mar 1960                    33.712883                       620.600000   \n",
       "Apr 1960                    33.891953                       625.000001   \n",
       "May 1960                    34.632109                       625.000001   \n",
       "\n",
       "          reserves_in_usd  cpi_index  \n",
       "Jan 1960           2989.5   4.143942  \n",
       "Feb 1960           2958.5   4.136754  \n",
       "Mar 1960           2923.5   4.129566  \n",
       "Apr 1960           2959.5   4.125971  \n",
       "May 1960           2970.5   4.133160  "
      ]
     },
     "execution_count": 33,
     "metadata": {},
     "output_type": "execute_result"
    }
   ],
   "source": [
    "italy_df.head()"
   ]
  },
  {
   "cell_type": "code",
   "execution_count": 34,
   "metadata": {},
   "outputs": [
    {
     "data": {
      "text/html": [
       "<div>\n",
       "<style scoped>\n",
       "    .dataframe tbody tr th:only-of-type {\n",
       "        vertical-align: middle;\n",
       "    }\n",
       "\n",
       "    .dataframe tbody tr th {\n",
       "        vertical-align: top;\n",
       "    }\n",
       "\n",
       "    .dataframe thead th {\n",
       "        text-align: right;\n",
       "    }\n",
       "</style>\n",
       "<table border=\"1\" class=\"dataframe\">\n",
       "  <thead>\n",
       "    <tr style=\"text-align: right;\">\n",
       "      <th></th>\n",
       "      <th>reserves_in_usd</th>\n",
       "      <th>cpi_index</th>\n",
       "    </tr>\n",
       "  </thead>\n",
       "  <tbody>\n",
       "    <tr>\n",
       "      <th>Jan 1960</th>\n",
       "      <td>21478.1</td>\n",
       "      <td>13.436946</td>\n",
       "    </tr>\n",
       "    <tr>\n",
       "      <th>Feb 1960</th>\n",
       "      <td>21395.7</td>\n",
       "      <td>13.482806</td>\n",
       "    </tr>\n",
       "    <tr>\n",
       "      <th>Mar 1960</th>\n",
       "      <td>21344.7</td>\n",
       "      <td>13.482806</td>\n",
       "    </tr>\n",
       "    <tr>\n",
       "      <th>Apr 1960</th>\n",
       "      <td>21278.0</td>\n",
       "      <td>13.528666</td>\n",
       "    </tr>\n",
       "    <tr>\n",
       "      <th>May 1960</th>\n",
       "      <td>21234.3</td>\n",
       "      <td>13.528666</td>\n",
       "    </tr>\n",
       "  </tbody>\n",
       "</table>\n",
       "</div>"
      ],
      "text/plain": [
       "          reserves_in_usd  cpi_index\n",
       "Jan 1960          21478.1  13.436946\n",
       "Feb 1960          21395.7  13.482806\n",
       "Mar 1960          21344.7  13.482806\n",
       "Apr 1960          21278.0  13.528666\n",
       "May 1960          21234.3  13.528666"
      ]
     },
     "execution_count": 34,
     "metadata": {},
     "output_type": "execute_result"
    }
   ],
   "source": [
    "usa_df.head()"
   ]
  },
  {
   "cell_type": "markdown",
   "metadata": {},
   "source": [
    "### 1.2 Merge Data"
   ]
  },
  {
   "cell_type": "code",
   "execution_count": 35,
   "metadata": {},
   "outputs": [
    {
     "data": {
      "text/html": [
       "<div>\n",
       "<style scoped>\n",
       "    .dataframe tbody tr th:only-of-type {\n",
       "        vertical-align: middle;\n",
       "    }\n",
       "\n",
       "    .dataframe tbody tr th {\n",
       "        vertical-align: top;\n",
       "    }\n",
       "\n",
       "    .dataframe thead th {\n",
       "        text-align: right;\n",
       "    }\n",
       "</style>\n",
       "<table border=\"1\" class=\"dataframe\">\n",
       "  <thead>\n",
       "    <tr style=\"text-align: right;\">\n",
       "      <th></th>\n",
       "      <th>industrial_production_index</th>\n",
       "      <th>nominal_er_nat_currency_per_usd</th>\n",
       "      <th>reserves_in_usd_italy</th>\n",
       "      <th>cpi_index_italy</th>\n",
       "      <th>reserves_in_usd_usa</th>\n",
       "      <th>cpi_index_usa</th>\n",
       "    </tr>\n",
       "  </thead>\n",
       "  <tbody>\n",
       "    <tr>\n",
       "      <th>Jan 1960</th>\n",
       "      <td>31.134278</td>\n",
       "      <td>621.118012</td>\n",
       "      <td>2989.5</td>\n",
       "      <td>4.143942</td>\n",
       "      <td>21478.1</td>\n",
       "      <td>13.436946</td>\n",
       "    </tr>\n",
       "    <tr>\n",
       "      <th>Feb 1960</th>\n",
       "      <td>32.602650</td>\n",
       "      <td>621.118012</td>\n",
       "      <td>2958.5</td>\n",
       "      <td>4.136754</td>\n",
       "      <td>21395.7</td>\n",
       "      <td>13.482806</td>\n",
       "    </tr>\n",
       "    <tr>\n",
       "      <th>Mar 1960</th>\n",
       "      <td>33.712883</td>\n",
       "      <td>620.600000</td>\n",
       "      <td>2923.5</td>\n",
       "      <td>4.129566</td>\n",
       "      <td>21344.7</td>\n",
       "      <td>13.482806</td>\n",
       "    </tr>\n",
       "    <tr>\n",
       "      <th>Apr 1960</th>\n",
       "      <td>33.891953</td>\n",
       "      <td>625.000001</td>\n",
       "      <td>2959.5</td>\n",
       "      <td>4.125971</td>\n",
       "      <td>21278.0</td>\n",
       "      <td>13.528666</td>\n",
       "    </tr>\n",
       "    <tr>\n",
       "      <th>May 1960</th>\n",
       "      <td>34.632109</td>\n",
       "      <td>625.000001</td>\n",
       "      <td>2970.5</td>\n",
       "      <td>4.133160</td>\n",
       "      <td>21234.3</td>\n",
       "      <td>13.528666</td>\n",
       "    </tr>\n",
       "  </tbody>\n",
       "</table>\n",
       "</div>"
      ],
      "text/plain": [
       "          industrial_production_index  nominal_er_nat_currency_per_usd  \\\n",
       "Jan 1960                    31.134278                       621.118012   \n",
       "Feb 1960                    32.602650                       621.118012   \n",
       "Mar 1960                    33.712883                       620.600000   \n",
       "Apr 1960                    33.891953                       625.000001   \n",
       "May 1960                    34.632109                       625.000001   \n",
       "\n",
       "          reserves_in_usd_italy  cpi_index_italy  reserves_in_usd_usa  \\\n",
       "Jan 1960                 2989.5         4.143942              21478.1   \n",
       "Feb 1960                 2958.5         4.136754              21395.7   \n",
       "Mar 1960                 2923.5         4.129566              21344.7   \n",
       "Apr 1960                 2959.5         4.125971              21278.0   \n",
       "May 1960                 2970.5         4.133160              21234.3   \n",
       "\n",
       "          cpi_index_usa  \n",
       "Jan 1960      13.436946  \n",
       "Feb 1960      13.482806  \n",
       "Mar 1960      13.482806  \n",
       "Apr 1960      13.528666  \n",
       "May 1960      13.528666  "
      ]
     },
     "execution_count": 35,
     "metadata": {},
     "output_type": "execute_result"
    }
   ],
   "source": [
    "df = pd.merge(italy_df, usa_df, left_index=True, right_index=True, suffixes=('_italy', '_usa'))\n",
    "df.head()"
   ]
  },
  {
   "cell_type": "markdown",
   "metadata": {},
   "source": [
    "## 2. Identify Outliers"
   ]
  },
  {
   "cell_type": "markdown",
   "metadata": {},
   "source": [
    "## 3. Construct Variables"
   ]
  },
  {
   "cell_type": "markdown",
   "metadata": {},
   "source": [
    "We will now construct the following variables as per the coursework instructions:\n",
    "\n",
    "1. The monthly growth in the nominal exchange rate\n",
    "2. The real exchange rate\n",
    "3. The monthly growth in the real exchange rate\n",
    "4. The monthly inflation rate\n",
    "5. The monthly growth in industrial production\n",
    "6. The growth in industrial production versus 12 months ago (i.e. January 1971 versus January 1970 etc.)\n",
    "7. An index of the value of international reserves (value of reserves at January 1960 = 100)"
   ]
  },
  {
   "cell_type": "markdown",
   "metadata": {},
   "source": [
    "### 3.1 Monthly Nominal Exchange Rate Growth"
   ]
  },
  {
   "cell_type": "markdown",
   "metadata": {},
   "source": [
    "### 3.2 Real Exchange Rate"
   ]
  },
  {
   "cell_type": "markdown",
   "metadata": {},
   "source": [
    "The real exchange rate is calculated as the nominal exchange rate multiplied by the ratio of the price index in Italy to the price index in the USA."
   ]
  },
  {
   "cell_type": "markdown",
   "metadata": {},
   "source": [
    "$$ ER_{real} = ER_{nominal} \\times \\frac{P_{Italy}}{P_{US}} $$"
   ]
  },
  {
   "cell_type": "code",
   "execution_count": 36,
   "metadata": {},
   "outputs": [],
   "source": [
    "df.insert(df.columns.get_loc('nominal_er_nat_currency_per_usd') + 1,\n",
    "          'real_er_nat_currency_per_usd',\n",
    "          df['nominal_er_nat_currency_per_usd'] * df['cpi_index_italy'] / df['cpi_index_usa'])"
   ]
  },
  {
   "cell_type": "code",
   "execution_count": 37,
   "metadata": {},
   "outputs": [
    {
     "data": {
      "text/html": [
       "<div>\n",
       "<style scoped>\n",
       "    .dataframe tbody tr th:only-of-type {\n",
       "        vertical-align: middle;\n",
       "    }\n",
       "\n",
       "    .dataframe tbody tr th {\n",
       "        vertical-align: top;\n",
       "    }\n",
       "\n",
       "    .dataframe thead th {\n",
       "        text-align: right;\n",
       "    }\n",
       "</style>\n",
       "<table border=\"1\" class=\"dataframe\">\n",
       "  <thead>\n",
       "    <tr style=\"text-align: right;\">\n",
       "      <th></th>\n",
       "      <th>industrial_production_index</th>\n",
       "      <th>nominal_er_nat_currency_per_usd</th>\n",
       "      <th>real_er_nat_currency_per_usd</th>\n",
       "      <th>reserves_in_usd_italy</th>\n",
       "      <th>cpi_index_italy</th>\n",
       "      <th>reserves_in_usd_usa</th>\n",
       "      <th>cpi_index_usa</th>\n",
       "    </tr>\n",
       "  </thead>\n",
       "  <tbody>\n",
       "    <tr>\n",
       "      <th>Jan 1960</th>\n",
       "      <td>31.134278</td>\n",
       "      <td>621.118012</td>\n",
       "      <td>191.552239</td>\n",
       "      <td>2989.500000</td>\n",
       "      <td>4.143942</td>\n",
       "      <td>21478.100000</td>\n",
       "      <td>13.436946</td>\n",
       "    </tr>\n",
       "    <tr>\n",
       "      <th>Feb 1960</th>\n",
       "      <td>32.602650</td>\n",
       "      <td>621.118012</td>\n",
       "      <td>190.569544</td>\n",
       "      <td>2958.500000</td>\n",
       "      <td>4.136754</td>\n",
       "      <td>21395.700000</td>\n",
       "      <td>13.482806</td>\n",
       "    </tr>\n",
       "    <tr>\n",
       "      <th>Mar 1960</th>\n",
       "      <td>33.712883</td>\n",
       "      <td>620.600000</td>\n",
       "      <td>190.079779</td>\n",
       "      <td>2923.500000</td>\n",
       "      <td>4.129566</td>\n",
       "      <td>21344.700000</td>\n",
       "      <td>13.482806</td>\n",
       "    </tr>\n",
       "    <tr>\n",
       "      <th>Apr 1960</th>\n",
       "      <td>33.891953</td>\n",
       "      <td>625.000001</td>\n",
       "      <td>190.612448</td>\n",
       "      <td>2959.500000</td>\n",
       "      <td>4.125971</td>\n",
       "      <td>21278.000000</td>\n",
       "      <td>13.528666</td>\n",
       "    </tr>\n",
       "    <tr>\n",
       "      <th>May 1960</th>\n",
       "      <td>34.632109</td>\n",
       "      <td>625.000001</td>\n",
       "      <td>190.944545</td>\n",
       "      <td>2970.500000</td>\n",
       "      <td>4.133160</td>\n",
       "      <td>21234.300000</td>\n",
       "      <td>13.528666</td>\n",
       "    </tr>\n",
       "    <tr>\n",
       "      <th>...</th>\n",
       "      <td>...</td>\n",
       "      <td>...</td>\n",
       "      <td>...</td>\n",
       "      <td>...</td>\n",
       "      <td>...</td>\n",
       "      <td>...</td>\n",
       "      <td>...</td>\n",
       "    </tr>\n",
       "    <tr>\n",
       "      <th>Aug 1990</th>\n",
       "      <td>51.945660</td>\n",
       "      <td>1158.680000</td>\n",
       "      <td>1078.009512</td>\n",
       "      <td>94282.568583</td>\n",
       "      <td>56.149763</td>\n",
       "      <td>78908.838357</td>\n",
       "      <td>60.351608</td>\n",
       "    </tr>\n",
       "    <tr>\n",
       "      <th>Sep 1990</th>\n",
       "      <td>105.180751</td>\n",
       "      <td>1171.700000</td>\n",
       "      <td>1086.797941</td>\n",
       "      <td>92443.529313</td>\n",
       "      <td>56.446401</td>\n",
       "      <td>80024.166133</td>\n",
       "      <td>60.856066</td>\n",
       "    </tr>\n",
       "    <tr>\n",
       "      <th>Oct 1990</th>\n",
       "      <td>115.588303</td>\n",
       "      <td>1141.680000</td>\n",
       "      <td>1061.299970</td>\n",
       "      <td>92157.185028</td>\n",
       "      <td>56.912541</td>\n",
       "      <td>82852.196532</td>\n",
       "      <td>61.222946</td>\n",
       "    </tr>\n",
       "    <tr>\n",
       "      <th>Nov 1990</th>\n",
       "      <td>106.193875</td>\n",
       "      <td>1116.310000</td>\n",
       "      <td>1041.557226</td>\n",
       "      <td>87764.009459</td>\n",
       "      <td>57.251568</td>\n",
       "      <td>83059.402774</td>\n",
       "      <td>61.360525</td>\n",
       "    </tr>\n",
       "    <tr>\n",
       "      <th>Dec 1990</th>\n",
       "      <td>89.615473</td>\n",
       "      <td>1124.850000</td>\n",
       "      <td>1051.855773</td>\n",
       "      <td>87840.106116</td>\n",
       "      <td>57.378693</td>\n",
       "      <td>83316.214608</td>\n",
       "      <td>61.360525</td>\n",
       "    </tr>\n",
       "  </tbody>\n",
       "</table>\n",
       "<p>372 rows × 7 columns</p>\n",
       "</div>"
      ],
      "text/plain": [
       "          industrial_production_index  nominal_er_nat_currency_per_usd  \\\n",
       "Jan 1960                    31.134278                       621.118012   \n",
       "Feb 1960                    32.602650                       621.118012   \n",
       "Mar 1960                    33.712883                       620.600000   \n",
       "Apr 1960                    33.891953                       625.000001   \n",
       "May 1960                    34.632109                       625.000001   \n",
       "...                               ...                              ...   \n",
       "Aug 1990                    51.945660                      1158.680000   \n",
       "Sep 1990                   105.180751                      1171.700000   \n",
       "Oct 1990                   115.588303                      1141.680000   \n",
       "Nov 1990                   106.193875                      1116.310000   \n",
       "Dec 1990                    89.615473                      1124.850000   \n",
       "\n",
       "          real_er_nat_currency_per_usd  reserves_in_usd_italy  \\\n",
       "Jan 1960                    191.552239            2989.500000   \n",
       "Feb 1960                    190.569544            2958.500000   \n",
       "Mar 1960                    190.079779            2923.500000   \n",
       "Apr 1960                    190.612448            2959.500000   \n",
       "May 1960                    190.944545            2970.500000   \n",
       "...                                ...                    ...   \n",
       "Aug 1990                   1078.009512           94282.568583   \n",
       "Sep 1990                   1086.797941           92443.529313   \n",
       "Oct 1990                   1061.299970           92157.185028   \n",
       "Nov 1990                   1041.557226           87764.009459   \n",
       "Dec 1990                   1051.855773           87840.106116   \n",
       "\n",
       "          cpi_index_italy  reserves_in_usd_usa  cpi_index_usa  \n",
       "Jan 1960         4.143942         21478.100000      13.436946  \n",
       "Feb 1960         4.136754         21395.700000      13.482806  \n",
       "Mar 1960         4.129566         21344.700000      13.482806  \n",
       "Apr 1960         4.125971         21278.000000      13.528666  \n",
       "May 1960         4.133160         21234.300000      13.528666  \n",
       "...                   ...                  ...            ...  \n",
       "Aug 1990        56.149763         78908.838357      60.351608  \n",
       "Sep 1990        56.446401         80024.166133      60.856066  \n",
       "Oct 1990        56.912541         82852.196532      61.222946  \n",
       "Nov 1990        57.251568         83059.402774      61.360525  \n",
       "Dec 1990        57.378693         83316.214608      61.360525  \n",
       "\n",
       "[372 rows x 7 columns]"
      ]
     },
     "execution_count": 37,
     "metadata": {},
     "output_type": "execute_result"
    }
   ],
   "source": [
    "df"
   ]
  },
  {
   "cell_type": "markdown",
   "metadata": {},
   "source": [
    "### 3.3 Monthly Real Exchange Rate Growth"
   ]
  },
  {
   "cell_type": "markdown",
   "metadata": {},
   "source": [
    "### 3.4 Monthly Inflation Rate (Italy and USA)"
   ]
  },
  {
   "cell_type": "code",
   "execution_count": null,
   "metadata": {},
   "outputs": [],
   "source": [
    "df.insert(df.columns.get_loc('cpi_usa') + 1,\n",
    "          'inflation_rate_usa',\n",
    "          df['nominal_er_nat_currency_per_usd'] * df['cpi_index_italy'] / df['cpi_index_usa'])"
   ]
  },
  {
   "cell_type": "markdown",
   "metadata": {},
   "source": [
    "$$ 1+1=2"
   ]
  }
 ],
 "metadata": {
  "kernelspec": {
   "display_name": "ds105",
   "language": "python",
   "name": "python3"
  },
  "language_info": {
   "codemirror_mode": {
    "name": "ipython",
    "version": 3
   },
   "file_extension": ".py",
   "mimetype": "text/x-python",
   "name": "python",
   "nbconvert_exporter": "python",
   "pygments_lexer": "ipython3",
   "version": "3.10.6"
  }
 },
 "nbformat": 4,
 "nbformat_minor": 2
}
