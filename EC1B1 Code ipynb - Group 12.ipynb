{
 "cells": [
  {
   "cell_type": "markdown",
   "metadata": {},
   "source": [
    "# EC1B1 Macroeconomics Coursework - Code"
   ]
  },
  {
   "cell_type": "markdown",
   "metadata": {},
   "source": [
    "This notebook contains all the code for our EC1B1 Macroeconomics coursework. The code is divided into the following sections:"
   ]
  },
  {
   "cell_type": "markdown",
   "metadata": {},
   "source": [
    "## 0. Import Libraries"
   ]
  },
  {
   "cell_type": "code",
   "execution_count": 24,
   "metadata": {},
   "outputs": [],
   "source": [
    "import pandas as pd\n",
    "import numpy as np\n",
    "import json\n",
    "import matplotlib.pyplot as plt"
   ]
  },
  {
   "cell_type": "markdown",
   "metadata": {},
   "source": [
    "## 1. Load and Preprocess Data"
   ]
  },
  {
   "cell_type": "markdown",
   "metadata": {},
   "source": [
    "We first load the Italy and USA data into separate dataframes."
   ]
  },
  {
   "cell_type": "code",
   "execution_count": 25,
   "metadata": {},
   "outputs": [],
   "source": [
    "italy_df = pd.read_excel('data/IMF_Italy.xlsx', header=1, index_col=0)\n",
    "usa_df = pd.read_excel('data/IMF_US.xlsx', header=1, index_col=0)"
   ]
  },
  {
   "cell_type": "markdown",
   "metadata": {},
   "source": [
    "### 1.1 Inspect Data"
   ]
  },
  {
   "cell_type": "code",
   "execution_count": 26,
   "metadata": {},
   "outputs": [
    {
     "data": {
      "text/html": [
       "<div>\n",
       "<style scoped>\n",
       "    .dataframe tbody tr th:only-of-type {\n",
       "        vertical-align: middle;\n",
       "    }\n",
       "\n",
       "    .dataframe tbody tr th {\n",
       "        vertical-align: top;\n",
       "    }\n",
       "\n",
       "    .dataframe thead th {\n",
       "        text-align: right;\n",
       "    }\n",
       "</style>\n",
       "<table border=\"1\" class=\"dataframe\">\n",
       "  <thead>\n",
       "    <tr style=\"text-align: right;\">\n",
       "      <th></th>\n",
       "      <th>Economic Activity, Industrial Production, Index</th>\n",
       "      <th>Exchange Rates, National Currency Per U.S. Dollar, Period Average, Rate</th>\n",
       "      <th>International Reserves and Liquidity, Reserves, Official Reserve Assets, US Dollar</th>\n",
       "      <th>Prices, Consumer Price Index, All items, Index</th>\n",
       "    </tr>\n",
       "  </thead>\n",
       "  <tbody>\n",
       "    <tr>\n",
       "      <th>Jan 1960</th>\n",
       "      <td>31.134278</td>\n",
       "      <td>621.118012</td>\n",
       "      <td>2989.5</td>\n",
       "      <td>4.143942</td>\n",
       "    </tr>\n",
       "    <tr>\n",
       "      <th>Feb 1960</th>\n",
       "      <td>32.602650</td>\n",
       "      <td>621.118012</td>\n",
       "      <td>2958.5</td>\n",
       "      <td>4.136754</td>\n",
       "    </tr>\n",
       "    <tr>\n",
       "      <th>Mar 1960</th>\n",
       "      <td>33.712883</td>\n",
       "      <td>620.600000</td>\n",
       "      <td>2923.5</td>\n",
       "      <td>4.129566</td>\n",
       "    </tr>\n",
       "    <tr>\n",
       "      <th>Apr 1960</th>\n",
       "      <td>33.891953</td>\n",
       "      <td>625.000001</td>\n",
       "      <td>2959.5</td>\n",
       "      <td>4.125971</td>\n",
       "    </tr>\n",
       "    <tr>\n",
       "      <th>May 1960</th>\n",
       "      <td>34.632109</td>\n",
       "      <td>625.000001</td>\n",
       "      <td>2970.5</td>\n",
       "      <td>4.133160</td>\n",
       "    </tr>\n",
       "  </tbody>\n",
       "</table>\n",
       "</div>"
      ],
      "text/plain": [
       "          Economic Activity, Industrial Production, Index  \\\n",
       "Jan 1960                                        31.134278   \n",
       "Feb 1960                                        32.602650   \n",
       "Mar 1960                                        33.712883   \n",
       "Apr 1960                                        33.891953   \n",
       "May 1960                                        34.632109   \n",
       "\n",
       "          Exchange Rates, National Currency Per U.S. Dollar, Period Average, Rate  \\\n",
       "Jan 1960                                         621.118012                         \n",
       "Feb 1960                                         621.118012                         \n",
       "Mar 1960                                         620.600000                         \n",
       "Apr 1960                                         625.000001                         \n",
       "May 1960                                         625.000001                         \n",
       "\n",
       "          International Reserves and Liquidity, Reserves, Official Reserve Assets, US Dollar  \\\n",
       "Jan 1960                                             2989.5                                    \n",
       "Feb 1960                                             2958.5                                    \n",
       "Mar 1960                                             2923.5                                    \n",
       "Apr 1960                                             2959.5                                    \n",
       "May 1960                                             2970.5                                    \n",
       "\n",
       "          Prices, Consumer Price Index, All items, Index  \n",
       "Jan 1960                                        4.143942  \n",
       "Feb 1960                                        4.136754  \n",
       "Mar 1960                                        4.129566  \n",
       "Apr 1960                                        4.125971  \n",
       "May 1960                                        4.133160  "
      ]
     },
     "execution_count": 26,
     "metadata": {},
     "output_type": "execute_result"
    }
   ],
   "source": [
    "italy_df.head()"
   ]
  },
  {
   "cell_type": "code",
   "execution_count": 27,
   "metadata": {},
   "outputs": [
    {
     "data": {
      "text/html": [
       "<div>\n",
       "<style scoped>\n",
       "    .dataframe tbody tr th:only-of-type {\n",
       "        vertical-align: middle;\n",
       "    }\n",
       "\n",
       "    .dataframe tbody tr th {\n",
       "        vertical-align: top;\n",
       "    }\n",
       "\n",
       "    .dataframe thead th {\n",
       "        text-align: right;\n",
       "    }\n",
       "</style>\n",
       "<table border=\"1\" class=\"dataframe\">\n",
       "  <thead>\n",
       "    <tr style=\"text-align: right;\">\n",
       "      <th></th>\n",
       "      <th>International Reserves and Liquidity, Reserves, Official Reserve Assets, US Dollar</th>\n",
       "      <th>Prices, Consumer Price Index, All items, Index</th>\n",
       "    </tr>\n",
       "  </thead>\n",
       "  <tbody>\n",
       "    <tr>\n",
       "      <th>Jan 1960</th>\n",
       "      <td>21478.1</td>\n",
       "      <td>13.436946</td>\n",
       "    </tr>\n",
       "    <tr>\n",
       "      <th>Feb 1960</th>\n",
       "      <td>21395.7</td>\n",
       "      <td>13.482806</td>\n",
       "    </tr>\n",
       "    <tr>\n",
       "      <th>Mar 1960</th>\n",
       "      <td>21344.7</td>\n",
       "      <td>13.482806</td>\n",
       "    </tr>\n",
       "    <tr>\n",
       "      <th>Apr 1960</th>\n",
       "      <td>21278.0</td>\n",
       "      <td>13.528666</td>\n",
       "    </tr>\n",
       "    <tr>\n",
       "      <th>May 1960</th>\n",
       "      <td>21234.3</td>\n",
       "      <td>13.528666</td>\n",
       "    </tr>\n",
       "  </tbody>\n",
       "</table>\n",
       "</div>"
      ],
      "text/plain": [
       "          International Reserves and Liquidity, Reserves, Official Reserve Assets, US Dollar  \\\n",
       "Jan 1960                                            21478.1                                    \n",
       "Feb 1960                                            21395.7                                    \n",
       "Mar 1960                                            21344.7                                    \n",
       "Apr 1960                                            21278.0                                    \n",
       "May 1960                                            21234.3                                    \n",
       "\n",
       "          Prices, Consumer Price Index, All items, Index  \n",
       "Jan 1960                                       13.436946  \n",
       "Feb 1960                                       13.482806  \n",
       "Mar 1960                                       13.482806  \n",
       "Apr 1960                                       13.528666  \n",
       "May 1960                                       13.528666  "
      ]
     },
     "execution_count": 27,
     "metadata": {},
     "output_type": "execute_result"
    }
   ],
   "source": [
    "usa_df.head()"
   ]
  },
  {
   "cell_type": "markdown",
   "metadata": {},
   "source": [
    "We will shorten the column names for easier inspection and reference:"
   ]
  },
  {
   "cell_type": "code",
   "execution_count": 28,
   "metadata": {},
   "outputs": [],
   "source": [
    "italy_df.columns = ['industrial_production_index', 'nominal_er_nat_currency_per_usd', 'reserves_in_usd', 'cpi']\n",
    "usa_df.columns = ['reserves_in_usd', 'cpi']"
   ]
  },
  {
   "cell_type": "code",
   "execution_count": 29,
   "metadata": {},
   "outputs": [
    {
     "data": {
      "text/html": [
       "<div>\n",
       "<style scoped>\n",
       "    .dataframe tbody tr th:only-of-type {\n",
       "        vertical-align: middle;\n",
       "    }\n",
       "\n",
       "    .dataframe tbody tr th {\n",
       "        vertical-align: top;\n",
       "    }\n",
       "\n",
       "    .dataframe thead th {\n",
       "        text-align: right;\n",
       "    }\n",
       "</style>\n",
       "<table border=\"1\" class=\"dataframe\">\n",
       "  <thead>\n",
       "    <tr style=\"text-align: right;\">\n",
       "      <th></th>\n",
       "      <th>industrial_production_index</th>\n",
       "      <th>nominal_er_nat_currency_per_usd</th>\n",
       "      <th>reserves_in_usd</th>\n",
       "      <th>cpi</th>\n",
       "    </tr>\n",
       "  </thead>\n",
       "  <tbody>\n",
       "    <tr>\n",
       "      <th>Jan 1960</th>\n",
       "      <td>31.134278</td>\n",
       "      <td>621.118012</td>\n",
       "      <td>2989.5</td>\n",
       "      <td>4.143942</td>\n",
       "    </tr>\n",
       "    <tr>\n",
       "      <th>Feb 1960</th>\n",
       "      <td>32.602650</td>\n",
       "      <td>621.118012</td>\n",
       "      <td>2958.5</td>\n",
       "      <td>4.136754</td>\n",
       "    </tr>\n",
       "    <tr>\n",
       "      <th>Mar 1960</th>\n",
       "      <td>33.712883</td>\n",
       "      <td>620.600000</td>\n",
       "      <td>2923.5</td>\n",
       "      <td>4.129566</td>\n",
       "    </tr>\n",
       "    <tr>\n",
       "      <th>Apr 1960</th>\n",
       "      <td>33.891953</td>\n",
       "      <td>625.000001</td>\n",
       "      <td>2959.5</td>\n",
       "      <td>4.125971</td>\n",
       "    </tr>\n",
       "    <tr>\n",
       "      <th>May 1960</th>\n",
       "      <td>34.632109</td>\n",
       "      <td>625.000001</td>\n",
       "      <td>2970.5</td>\n",
       "      <td>4.133160</td>\n",
       "    </tr>\n",
       "  </tbody>\n",
       "</table>\n",
       "</div>"
      ],
      "text/plain": [
       "          industrial_production_index  nominal_er_nat_currency_per_usd  \\\n",
       "Jan 1960                    31.134278                       621.118012   \n",
       "Feb 1960                    32.602650                       621.118012   \n",
       "Mar 1960                    33.712883                       620.600000   \n",
       "Apr 1960                    33.891953                       625.000001   \n",
       "May 1960                    34.632109                       625.000001   \n",
       "\n",
       "          reserves_in_usd       cpi  \n",
       "Jan 1960           2989.5  4.143942  \n",
       "Feb 1960           2958.5  4.136754  \n",
       "Mar 1960           2923.5  4.129566  \n",
       "Apr 1960           2959.5  4.125971  \n",
       "May 1960           2970.5  4.133160  "
      ]
     },
     "execution_count": 29,
     "metadata": {},
     "output_type": "execute_result"
    }
   ],
   "source": [
    "italy_df.head()"
   ]
  },
  {
   "cell_type": "code",
   "execution_count": 30,
   "metadata": {},
   "outputs": [
    {
     "data": {
      "text/html": [
       "<div>\n",
       "<style scoped>\n",
       "    .dataframe tbody tr th:only-of-type {\n",
       "        vertical-align: middle;\n",
       "    }\n",
       "\n",
       "    .dataframe tbody tr th {\n",
       "        vertical-align: top;\n",
       "    }\n",
       "\n",
       "    .dataframe thead th {\n",
       "        text-align: right;\n",
       "    }\n",
       "</style>\n",
       "<table border=\"1\" class=\"dataframe\">\n",
       "  <thead>\n",
       "    <tr style=\"text-align: right;\">\n",
       "      <th></th>\n",
       "      <th>reserves_in_usd</th>\n",
       "      <th>cpi</th>\n",
       "    </tr>\n",
       "  </thead>\n",
       "  <tbody>\n",
       "    <tr>\n",
       "      <th>Jan 1960</th>\n",
       "      <td>21478.1</td>\n",
       "      <td>13.436946</td>\n",
       "    </tr>\n",
       "    <tr>\n",
       "      <th>Feb 1960</th>\n",
       "      <td>21395.7</td>\n",
       "      <td>13.482806</td>\n",
       "    </tr>\n",
       "    <tr>\n",
       "      <th>Mar 1960</th>\n",
       "      <td>21344.7</td>\n",
       "      <td>13.482806</td>\n",
       "    </tr>\n",
       "    <tr>\n",
       "      <th>Apr 1960</th>\n",
       "      <td>21278.0</td>\n",
       "      <td>13.528666</td>\n",
       "    </tr>\n",
       "    <tr>\n",
       "      <th>May 1960</th>\n",
       "      <td>21234.3</td>\n",
       "      <td>13.528666</td>\n",
       "    </tr>\n",
       "  </tbody>\n",
       "</table>\n",
       "</div>"
      ],
      "text/plain": [
       "          reserves_in_usd        cpi\n",
       "Jan 1960          21478.1  13.436946\n",
       "Feb 1960          21395.7  13.482806\n",
       "Mar 1960          21344.7  13.482806\n",
       "Apr 1960          21278.0  13.528666\n",
       "May 1960          21234.3  13.528666"
      ]
     },
     "execution_count": 30,
     "metadata": {},
     "output_type": "execute_result"
    }
   ],
   "source": [
    "usa_df.head()"
   ]
  },
  {
   "cell_type": "markdown",
   "metadata": {},
   "source": [
    "### 1.2 Merge Data"
   ]
  },
  {
   "cell_type": "code",
   "execution_count": 57,
   "metadata": {},
   "outputs": [
    {
     "data": {
      "text/html": [
       "<div>\n",
       "<style scoped>\n",
       "    .dataframe tbody tr th:only-of-type {\n",
       "        vertical-align: middle;\n",
       "    }\n",
       "\n",
       "    .dataframe tbody tr th {\n",
       "        vertical-align: top;\n",
       "    }\n",
       "\n",
       "    .dataframe thead th {\n",
       "        text-align: right;\n",
       "    }\n",
       "</style>\n",
       "<table border=\"1\" class=\"dataframe\">\n",
       "  <thead>\n",
       "    <tr style=\"text-align: right;\">\n",
       "      <th></th>\n",
       "      <th>industrial_production_index</th>\n",
       "      <th>nominal_er_nat_currency_per_usd</th>\n",
       "      <th>reserves_in_usd_italy</th>\n",
       "      <th>cpi_italy</th>\n",
       "      <th>reserves_in_usd_usa</th>\n",
       "      <th>cpi_usa</th>\n",
       "    </tr>\n",
       "  </thead>\n",
       "  <tbody>\n",
       "    <tr>\n",
       "      <th>Jan 1960</th>\n",
       "      <td>31.134278</td>\n",
       "      <td>621.118012</td>\n",
       "      <td>2989.50</td>\n",
       "      <td>4.143942</td>\n",
       "      <td>21478.1</td>\n",
       "      <td>13.436946</td>\n",
       "    </tr>\n",
       "    <tr>\n",
       "      <th>Feb 1960</th>\n",
       "      <td>32.602650</td>\n",
       "      <td>621.118012</td>\n",
       "      <td>2958.50</td>\n",
       "      <td>4.136754</td>\n",
       "      <td>21395.7</td>\n",
       "      <td>13.482806</td>\n",
       "    </tr>\n",
       "    <tr>\n",
       "      <th>Mar 1960</th>\n",
       "      <td>33.712883</td>\n",
       "      <td>620.600000</td>\n",
       "      <td>2923.50</td>\n",
       "      <td>4.129566</td>\n",
       "      <td>21344.7</td>\n",
       "      <td>13.482806</td>\n",
       "    </tr>\n",
       "    <tr>\n",
       "      <th>Apr 1960</th>\n",
       "      <td>33.891953</td>\n",
       "      <td>625.000001</td>\n",
       "      <td>2959.50</td>\n",
       "      <td>4.125971</td>\n",
       "      <td>21278.0</td>\n",
       "      <td>13.528666</td>\n",
       "    </tr>\n",
       "    <tr>\n",
       "      <th>May 1960</th>\n",
       "      <td>34.632109</td>\n",
       "      <td>625.000001</td>\n",
       "      <td>2970.50</td>\n",
       "      <td>4.133160</td>\n",
       "      <td>21234.3</td>\n",
       "      <td>13.528666</td>\n",
       "    </tr>\n",
       "    <tr>\n",
       "      <th>Jun 1960</th>\n",
       "      <td>35.372264</td>\n",
       "      <td>625.000001</td>\n",
       "      <td>2997.50</td>\n",
       "      <td>4.133160</td>\n",
       "      <td>21169.8</td>\n",
       "      <td>13.574526</td>\n",
       "    </tr>\n",
       "    <tr>\n",
       "      <th>Jul 1960</th>\n",
       "      <td>33.891953</td>\n",
       "      <td>625.000001</td>\n",
       "      <td>3088.50</td>\n",
       "      <td>4.151131</td>\n",
       "      <td>20999.4</td>\n",
       "      <td>13.574526</td>\n",
       "    </tr>\n",
       "    <tr>\n",
       "      <th>Aug 1960</th>\n",
       "      <td>27.445439</td>\n",
       "      <td>625.000001</td>\n",
       "      <td>3201.50</td>\n",
       "      <td>4.158318</td>\n",
       "      <td>20803.4</td>\n",
       "      <td>13.574526</td>\n",
       "    </tr>\n",
       "    <tr>\n",
       "      <th>Sep 1960</th>\n",
       "      <td>35.002186</td>\n",
       "      <td>625.000001</td>\n",
       "      <td>3193.50</td>\n",
       "      <td>4.154724</td>\n",
       "      <td>20430.0</td>\n",
       "      <td>13.574526</td>\n",
       "    </tr>\n",
       "    <tr>\n",
       "      <th>Oct 1960</th>\n",
       "      <td>34.632109</td>\n",
       "      <td>625.000001</td>\n",
       "      <td>3174.50</td>\n",
       "      <td>4.154724</td>\n",
       "      <td>20068.2</td>\n",
       "      <td>13.666246</td>\n",
       "    </tr>\n",
       "    <tr>\n",
       "      <th>Nov 1960</th>\n",
       "      <td>35.730404</td>\n",
       "      <td>625.000001</td>\n",
       "      <td>3216.50</td>\n",
       "      <td>4.172694</td>\n",
       "      <td>19558.2</td>\n",
       "      <td>13.666246</td>\n",
       "    </tr>\n",
       "    <tr>\n",
       "      <th>Dec 1960</th>\n",
       "      <td>34.811178</td>\n",
       "      <td>625.000001</td>\n",
       "      <td>3250.50</td>\n",
       "      <td>4.179883</td>\n",
       "      <td>19358.8</td>\n",
       "      <td>13.666246</td>\n",
       "    </tr>\n",
       "    <tr>\n",
       "      <th>Jan 1961</th>\n",
       "      <td>34.441101</td>\n",
       "      <td>625.000001</td>\n",
       "      <td>3155.50</td>\n",
       "      <td>4.197853</td>\n",
       "      <td>19056.2</td>\n",
       "      <td>13.666246</td>\n",
       "    </tr>\n",
       "    <tr>\n",
       "      <th>Feb 1961</th>\n",
       "      <td>36.100481</td>\n",
       "      <td>625.000001</td>\n",
       "      <td>3103.50</td>\n",
       "      <td>4.197853</td>\n",
       "      <td>18978.0</td>\n",
       "      <td>13.666246</td>\n",
       "    </tr>\n",
       "    <tr>\n",
       "      <th>Mar 1961</th>\n",
       "      <td>36.661567</td>\n",
       "      <td>625.000001</td>\n",
       "      <td>3123.50</td>\n",
       "      <td>4.201447</td>\n",
       "      <td>18988.2</td>\n",
       "      <td>13.666246</td>\n",
       "    </tr>\n",
       "    <tr>\n",
       "      <th>Apr 1961</th>\n",
       "      <td>37.210714</td>\n",
       "      <td>625.000001</td>\n",
       "      <td>3148.50</td>\n",
       "      <td>4.208636</td>\n",
       "      <td>19165.1</td>\n",
       "      <td>13.666246</td>\n",
       "    </tr>\n",
       "    <tr>\n",
       "      <th>May 1961</th>\n",
       "      <td>37.950870</td>\n",
       "      <td>625.000001</td>\n",
       "      <td>3218.50</td>\n",
       "      <td>4.219418</td>\n",
       "      <td>19196.9</td>\n",
       "      <td>13.666246</td>\n",
       "    </tr>\n",
       "    <tr>\n",
       "      <th>Jun 1961</th>\n",
       "      <td>38.129940</td>\n",
       "      <td>625.000001</td>\n",
       "      <td>3328.50</td>\n",
       "      <td>4.219418</td>\n",
       "      <td>19307.9</td>\n",
       "      <td>13.666246</td>\n",
       "    </tr>\n",
       "    <tr>\n",
       "      <th>Jul 1961</th>\n",
       "      <td>37.210714</td>\n",
       "      <td>625.000001</td>\n",
       "      <td>3475.50</td>\n",
       "      <td>4.230199</td>\n",
       "      <td>19234.6</td>\n",
       "      <td>13.757965</td>\n",
       "    </tr>\n",
       "    <tr>\n",
       "      <th>Aug 1961</th>\n",
       "      <td>29.283889</td>\n",
       "      <td>625.000001</td>\n",
       "      <td>3703.75</td>\n",
       "      <td>4.237388</td>\n",
       "      <td>19641.5</td>\n",
       "      <td>13.712105</td>\n",
       "    </tr>\n",
       "  </tbody>\n",
       "</table>\n",
       "</div>"
      ],
      "text/plain": [
       "          industrial_production_index  nominal_er_nat_currency_per_usd  \\\n",
       "Jan 1960                    31.134278                       621.118012   \n",
       "Feb 1960                    32.602650                       621.118012   \n",
       "Mar 1960                    33.712883                       620.600000   \n",
       "Apr 1960                    33.891953                       625.000001   \n",
       "May 1960                    34.632109                       625.000001   \n",
       "Jun 1960                    35.372264                       625.000001   \n",
       "Jul 1960                    33.891953                       625.000001   \n",
       "Aug 1960                    27.445439                       625.000001   \n",
       "Sep 1960                    35.002186                       625.000001   \n",
       "Oct 1960                    34.632109                       625.000001   \n",
       "Nov 1960                    35.730404                       625.000001   \n",
       "Dec 1960                    34.811178                       625.000001   \n",
       "Jan 1961                    34.441101                       625.000001   \n",
       "Feb 1961                    36.100481                       625.000001   \n",
       "Mar 1961                    36.661567                       625.000001   \n",
       "Apr 1961                    37.210714                       625.000001   \n",
       "May 1961                    37.950870                       625.000001   \n",
       "Jun 1961                    38.129940                       625.000001   \n",
       "Jul 1961                    37.210714                       625.000001   \n",
       "Aug 1961                    29.283889                       625.000001   \n",
       "\n",
       "          reserves_in_usd_italy  cpi_italy  reserves_in_usd_usa    cpi_usa  \n",
       "Jan 1960                2989.50   4.143942              21478.1  13.436946  \n",
       "Feb 1960                2958.50   4.136754              21395.7  13.482806  \n",
       "Mar 1960                2923.50   4.129566              21344.7  13.482806  \n",
       "Apr 1960                2959.50   4.125971              21278.0  13.528666  \n",
       "May 1960                2970.50   4.133160              21234.3  13.528666  \n",
       "Jun 1960                2997.50   4.133160              21169.8  13.574526  \n",
       "Jul 1960                3088.50   4.151131              20999.4  13.574526  \n",
       "Aug 1960                3201.50   4.158318              20803.4  13.574526  \n",
       "Sep 1960                3193.50   4.154724              20430.0  13.574526  \n",
       "Oct 1960                3174.50   4.154724              20068.2  13.666246  \n",
       "Nov 1960                3216.50   4.172694              19558.2  13.666246  \n",
       "Dec 1960                3250.50   4.179883              19358.8  13.666246  \n",
       "Jan 1961                3155.50   4.197853              19056.2  13.666246  \n",
       "Feb 1961                3103.50   4.197853              18978.0  13.666246  \n",
       "Mar 1961                3123.50   4.201447              18988.2  13.666246  \n",
       "Apr 1961                3148.50   4.208636              19165.1  13.666246  \n",
       "May 1961                3218.50   4.219418              19196.9  13.666246  \n",
       "Jun 1961                3328.50   4.219418              19307.9  13.666246  \n",
       "Jul 1961                3475.50   4.230199              19234.6  13.757965  \n",
       "Aug 1961                3703.75   4.237388              19641.5  13.712105  "
      ]
     },
     "execution_count": 57,
     "metadata": {},
     "output_type": "execute_result"
    }
   ],
   "source": [
    "df = pd.merge(italy_df, usa_df, left_index=True, right_index=True, suffixes=('_italy', '_usa'))\n",
    "df.head(20)"
   ]
  },
  {
   "cell_type": "markdown",
   "metadata": {},
   "source": [
    "## 2. Identify Outliers"
   ]
  },
  {
   "cell_type": "code",
   "execution_count": 59,
   "metadata": {},
   "outputs": [
    {
     "data": {
      "text/plain": [
       "array([<Axes: >, <Axes: >, <Axes: >, <Axes: >, <Axes: >, <Axes: >],\n",
       "      dtype=object)"
      ]
     },
     "execution_count": 59,
     "metadata": {},
     "output_type": "execute_result"
    },
    {
     "data": {
      "image/png": "[encoded data removed]",
      "text/plain": [
       "<Figure size 1080x720 with 6 Axes>"
      ]
     },
     "metadata": {
      "needs_background": "light"
     },
     "output_type": "display_data"
    }
   ],
   "source": [
    "df.plot(subplots=True, figsize=(15, 10))"
   ]
  },
  {
   "cell_type": "markdown",
   "metadata": {},
   "source": [
    "To identify outliers, we will use the IQR method. This involves establishing an upper and lower \"fence\" equal to 1.5 times the IQR above the third quartile and below the first quartile, respectively. Any data points that fall outside these fences should be considered outliers."
   ]
  },
  {
   "cell_type": "code",
   "execution_count": null,
   "metadata": {},
   "outputs": [],
   "source": []
  },
  {
   "cell_type": "markdown",
   "metadata": {},
   "source": [
    "### 2.1 Create fences for downloaded indicators"
   ]
  },
  {
   "cell_type": "code",
   "execution_count": 51,
   "metadata": {},
   "outputs": [
    {
     "data": {
      "text/plain": [
       "{'industrial_production_index': (-13.510820006722973, 157.13080683321542),\n",
       " 'nominal_er_nat_currency_per_usd': (-303.5037484375001, 2172.5062490625),\n",
       " 'reserves_in_usd_italy': (-53640.7712438552, 102466.26074725347),\n",
       " 'cpi_italy': (-36.96411504076126, 76.65163730045546),\n",
       " 'reserves_in_usd_usa': (-11144.341994445569, 60571.50332407595),\n",
       " 'cpi_usa': (-29.01210930244827, 89.53569160145011)}"
      ]
     },
     "execution_count": 51,
     "metadata": {},
     "output_type": "execute_result"
    }
   ],
   "source": [
    "fences = {}\n",
    "\n",
    "for column in df.columns:\n",
    "    iqr = df[column].quantile(0.75) - df[column].quantile(0.25)\n",
    "    lower_fence = df[column].quantile(0.25) - 1.5 * iqr\n",
    "    upper_fence = df[column].quantile(0.75) + 1.5 * iqr\n",
    "    fences[column] = (lower_fence, upper_fence)\n",
    "\n",
    "fences"
   ]
  },
  {
   "cell_type": "markdown",
   "metadata": {},
   "source": [
    "## 3. Construct Variables"
   ]
  },
  {
   "cell_type": "markdown",
   "metadata": {},
   "source": [
    "We will now construct the following variables as per the coursework instructions:\n",
    "\n",
    "1. The monthly growth in the nominal exchange rate\n",
    "2. The real exchange rate\n",
    "3. The monthly growth in the real exchange rate\n",
    "4. The monthly inflation rate\n",
    "5. The monthly growth in industrial production\n",
    "6. The growth in industrial production versus 12 months ago (i.e. January 1971 versus January 1970 etc.)\n",
    "7. An index of the value of international reserves (value of reserves at January 1960 = 100)\n",
    "\n",
    "These will go into a separate dataframe."
   ]
  },
  {
   "cell_type": "markdown",
   "metadata": {},
   "source": [
    "### 3.1 Monthly Nominal Exchange Rate Growth"
   ]
  },
  {
   "cell_type": "markdown",
   "metadata": {},
   "source": [
    "The monthly growth in the nominal exchange rate is calculated as the percentage change in the nominal exchange rate from the previous month.\n",
    "\n",
    "$$ \\text{Monthly NER Growth} = \\frac{ER_t - ER_{t-1}}{ER_{t-1}} \\times 100 $$\n",
    "\n",
    "We can use the `pct_change()` method in `pandas` to calculate this."
   ]
  },
  {
   "cell_type": "code",
   "execution_count": 32,
   "metadata": {},
   "outputs": [],
   "source": [
    "variables_df = pd.DataFrame()\n",
    "variables_df['nominal_er_growth_rate'] = df['nominal_er_nat_currency_per_usd'].pct_change() * 100"
   ]
  },
  {
   "cell_type": "markdown",
   "metadata": {},
   "source": [
    "### 3.2 Real Exchange Rate"
   ]
  },
  {
   "cell_type": "markdown",
   "metadata": {},
   "source": [
    "We note that the nominal exchange rate is calculated as the number of Italian Lira per 1 US Dollar.\n",
    "\n",
    "The real exchange rate is calculated as the nominal exchange rate multiplied by the ratio of the price index in Italy to the price index in the USA."
   ]
  },
  {
   "cell_type": "markdown",
   "metadata": {},
   "source": [
    "$$ ER_{real} = ER_{nominal} \\times \\frac{P_{Italy}}{P_{US}} $$"
   ]
  },
  {
   "cell_type": "code",
   "execution_count": 33,
   "metadata": {},
   "outputs": [],
   "source": [
    "variables_df['real_er_nat_currency_per_usd'] = df['nominal_er_nat_currency_per_usd'] * df['cpi_italy'] / df['cpi_usa']"
   ]
  },
  {
   "cell_type": "markdown",
   "metadata": {},
   "source": [
    "### 3.3 Monthly Real Exchange Rate Growth"
   ]
  },
  {
   "cell_type": "markdown",
   "metadata": {},
   "source": [
    "We can use the same method as in 3.1 to calculate the monthly growth in the real exchange rate."
   ]
  },
  {
   "cell_type": "code",
   "execution_count": 34,
   "metadata": {},
   "outputs": [],
   "source": [
    "variables_df['real_er_growth_rate'] = variables_df['real_er_nat_currency_per_usd'].pct_change() * 100"
   ]
  },
  {
   "cell_type": "markdown",
   "metadata": {},
   "source": [
    "### 3.4 Monthly Inflation Rate (Italy and USA)"
   ]
  },
  {
   "cell_type": "markdown",
   "metadata": {},
   "source": [
    "$$ \\pi = \\frac{CPI_t - CPI_{t-1}}{CPI_{t-1}}  $$"
   ]
  },
  {
   "cell_type": "code",
   "execution_count": 35,
   "metadata": {},
   "outputs": [],
   "source": [
    "variables_df['inflation_rate_italy'] = df['cpi_italy'].pct_change() * 100\n",
    "variables_df['inflation_rate_usa'] = df['cpi_usa'].pct_change() * 100"
   ]
  },
  {
   "cell_type": "markdown",
   "metadata": {},
   "source": [
    "### 3.5 Monthly Growth in Industrial Production"
   ]
  },
  {
   "cell_type": "code",
   "execution_count": 36,
   "metadata": {},
   "outputs": [],
   "source": [
    "variables_df['industrial_production_1m_growth_rate'] = df['industrial_production_index'].pct_change() * 100"
   ]
  },
  {
   "cell_type": "markdown",
   "metadata": {},
   "source": [
    "### 3.6 Growth in Industrial Production versus 12 months ago"
   ]
  },
  {
   "cell_type": "markdown",
   "metadata": {},
   "source": [
    "To measure the growth in industrial production versus 12 months ago, we can override the `periods` parameter (which has a default of 1) in the `pct_change()` method."
   ]
  },
  {
   "cell_type": "code",
   "execution_count": 37,
   "metadata": {},
   "outputs": [],
   "source": [
    "variables_df['industrial_production_12m_growth_rate'] = df['industrial_production_index'].pct_change(periods=12) * 100"
   ]
  },
  {
   "cell_type": "markdown",
   "metadata": {},
   "source": [
    "### 3.7 Index of the Value of International Reserves"
   ]
  },
  {
   "cell_type": "markdown",
   "metadata": {},
   "source": [
    "To calculate the indexed value of international reserves in a particular month, we can use the following formula:\n",
    "\n",
    "$$ \\text{Indexed Reserves} = \\frac{\\text{Reserves in Month}}{\\text{Reserves in January 1960}} \\times 100 $$"
   ]
  },
  {
   "cell_type": "code",
   "execution_count": 38,
   "metadata": {},
   "outputs": [],
   "source": [
    "jan_1960_reserves_italy = df['reserves_in_usd_italy'].iloc[0]\n",
    "variables_df['reserves_index_italy'] = df['reserves_in_usd_italy'] / jan_1960_reserves_italy * 100\n",
    "\n",
    "jan_1960_reserves_usa = df['reserves_in_usd_usa'].iloc[0]\n",
    "variables_df['reserves_index_usa'] = df['reserves_in_usd_usa'] / jan_1960_reserves_usa * 100"
   ]
  },
  {
   "cell_type": "code",
   "execution_count": 39,
   "metadata": {},
   "outputs": [
    {
     "data": {
      "text/html": [
       "<div>\n",
       "<style scoped>\n",
       "    .dataframe tbody tr th:only-of-type {\n",
       "        vertical-align: middle;\n",
       "    }\n",
       "\n",
       "    .dataframe tbody tr th {\n",
       "        vertical-align: top;\n",
       "    }\n",
       "\n",
       "    .dataframe thead th {\n",
       "        text-align: right;\n",
       "    }\n",
       "</style>\n",
       "<table border=\"1\" class=\"dataframe\">\n",
       "  <thead>\n",
       "    <tr style=\"text-align: right;\">\n",
       "      <th></th>\n",
       "      <th>nominal_er_growth_rate</th>\n",
       "      <th>real_er_nat_currency_per_usd</th>\n",
       "      <th>real_er_growth_rate</th>\n",
       "      <th>inflation_rate_italy</th>\n",
       "      <th>inflation_rate_usa</th>\n",
       "      <th>industrial_production_1m_growth_rate</th>\n",
       "      <th>industrial_production_12m_growth_rate</th>\n",
       "      <th>reserves_index_italy</th>\n",
       "      <th>reserves_index_usa</th>\n",
       "    </tr>\n",
       "  </thead>\n",
       "  <tbody>\n",
       "    <tr>\n",
       "      <th>Jan 1960</th>\n",
       "      <td>NaN</td>\n",
       "      <td>191.552239</td>\n",
       "      <td>NaN</td>\n",
       "      <td>NaN</td>\n",
       "      <td>NaN</td>\n",
       "      <td>NaN</td>\n",
       "      <td>NaN</td>\n",
       "      <td>100.000000</td>\n",
       "      <td>100.000000</td>\n",
       "    </tr>\n",
       "    <tr>\n",
       "      <th>Feb 1960</th>\n",
       "      <td>0.000000</td>\n",
       "      <td>190.569544</td>\n",
       "      <td>-0.513017</td>\n",
       "      <td>-0.173471</td>\n",
       "      <td>0.341297</td>\n",
       "      <td>4.716258</td>\n",
       "      <td>NaN</td>\n",
       "      <td>98.963037</td>\n",
       "      <td>99.616353</td>\n",
       "    </tr>\n",
       "    <tr>\n",
       "      <th>Mar 1960</th>\n",
       "      <td>-0.083400</td>\n",
       "      <td>190.079779</td>\n",
       "      <td>-0.257001</td>\n",
       "      <td>-0.173746</td>\n",
       "      <td>0.000000</td>\n",
       "      <td>3.405346</td>\n",
       "      <td>NaN</td>\n",
       "      <td>97.792273</td>\n",
       "      <td>99.378902</td>\n",
       "    </tr>\n",
       "    <tr>\n",
       "      <th>Apr 1960</th>\n",
       "      <td>0.708991</td>\n",
       "      <td>190.612448</td>\n",
       "      <td>0.280235</td>\n",
       "      <td>-0.087050</td>\n",
       "      <td>0.340136</td>\n",
       "      <td>0.531161</td>\n",
       "      <td>NaN</td>\n",
       "      <td>98.996488</td>\n",
       "      <td>99.068353</td>\n",
       "    </tr>\n",
       "    <tr>\n",
       "      <th>May 1960</th>\n",
       "      <td>0.000000</td>\n",
       "      <td>190.944545</td>\n",
       "      <td>0.174226</td>\n",
       "      <td>0.174226</td>\n",
       "      <td>0.000000</td>\n",
       "      <td>2.183868</td>\n",
       "      <td>NaN</td>\n",
       "      <td>99.364442</td>\n",
       "      <td>98.864890</td>\n",
       "    </tr>\n",
       "    <tr>\n",
       "      <th>...</th>\n",
       "      <td>...</td>\n",
       "      <td>...</td>\n",
       "      <td>...</td>\n",
       "      <td>...</td>\n",
       "      <td>...</td>\n",
       "      <td>...</td>\n",
       "      <td>...</td>\n",
       "      <td>...</td>\n",
       "      <td>...</td>\n",
       "    </tr>\n",
       "    <tr>\n",
       "      <th>Aug 1990</th>\n",
       "      <td>-3.579928</td>\n",
       "      <td>1078.009512</td>\n",
       "      <td>-3.805725</td>\n",
       "      <td>0.683910</td>\n",
       "      <td>0.920245</td>\n",
       "      <td>-53.078203</td>\n",
       "      <td>1.975400</td>\n",
       "      <td>3153.790553</td>\n",
       "      <td>367.392080</td>\n",
       "    </tr>\n",
       "    <tr>\n",
       "      <th>Sep 1990</th>\n",
       "      <td>1.123692</td>\n",
       "      <td>1086.797941</td>\n",
       "      <td>0.815246</td>\n",
       "      <td>0.528298</td>\n",
       "      <td>0.835866</td>\n",
       "      <td>102.482270</td>\n",
       "      <td>-7.558584</td>\n",
       "      <td>3092.273936</td>\n",
       "      <td>372.584941</td>\n",
       "    </tr>\n",
       "    <tr>\n",
       "      <th>Oct 1990</th>\n",
       "      <td>-2.562089</td>\n",
       "      <td>1061.299970</td>\n",
       "      <td>-2.346156</td>\n",
       "      <td>0.825811</td>\n",
       "      <td>0.602864</td>\n",
       "      <td>9.894921</td>\n",
       "      <td>2.221204</td>\n",
       "      <td>3082.695602</td>\n",
       "      <td>385.751982</td>\n",
       "    </tr>\n",
       "    <tr>\n",
       "      <th>Nov 1990</th>\n",
       "      <td>-2.222164</td>\n",
       "      <td>1041.557226</td>\n",
       "      <td>-1.860242</td>\n",
       "      <td>0.595698</td>\n",
       "      <td>0.224719</td>\n",
       "      <td>-8.127490</td>\n",
       "      <td>-7.895455</td>\n",
       "      <td>2935.742079</td>\n",
       "      <td>386.716715</td>\n",
       "    </tr>\n",
       "    <tr>\n",
       "      <th>Dec 1990</th>\n",
       "      <td>0.765020</td>\n",
       "      <td>1051.855773</td>\n",
       "      <td>0.988764</td>\n",
       "      <td>0.222045</td>\n",
       "      <td>0.000000</td>\n",
       "      <td>-15.611448</td>\n",
       "      <td>-15.919049</td>\n",
       "      <td>2938.287544</td>\n",
       "      <td>387.912407</td>\n",
       "    </tr>\n",
       "  </tbody>\n",
       "</table>\n",
       "<p>372 rows × 9 columns</p>\n",
       "</div>"
      ],
      "text/plain": [
       "          nominal_er_growth_rate  real_er_nat_currency_per_usd  \\\n",
       "Jan 1960                     NaN                    191.552239   \n",
       "Feb 1960                0.000000                    190.569544   \n",
       "Mar 1960               -0.083400                    190.079779   \n",
       "Apr 1960                0.708991                    190.612448   \n",
       "May 1960                0.000000                    190.944545   \n",
       "...                          ...                           ...   \n",
       "Aug 1990               -3.579928                   1078.009512   \n",
       "Sep 1990                1.123692                   1086.797941   \n",
       "Oct 1990               -2.562089                   1061.299970   \n",
       "Nov 1990               -2.222164                   1041.557226   \n",
       "Dec 1990                0.765020                   1051.855773   \n",
       "\n",
       "          real_er_growth_rate  inflation_rate_italy  inflation_rate_usa  \\\n",
       "Jan 1960                  NaN                   NaN                 NaN   \n",
       "Feb 1960            -0.513017             -0.173471            0.341297   \n",
       "Mar 1960            -0.257001             -0.173746            0.000000   \n",
       "Apr 1960             0.280235             -0.087050            0.340136   \n",
       "May 1960             0.174226              0.174226            0.000000   \n",
       "...                       ...                   ...                 ...   \n",
       "Aug 1990            -3.805725              0.683910            0.920245   \n",
       "Sep 1990             0.815246              0.528298            0.835866   \n",
       "Oct 1990            -2.346156              0.825811            0.602864   \n",
       "Nov 1990            -1.860242              0.595698            0.224719   \n",
       "Dec 1990             0.988764              0.222045            0.000000   \n",
       "\n",
       "          industrial_production_1m_growth_rate  \\\n",
       "Jan 1960                                   NaN   \n",
       "Feb 1960                              4.716258   \n",
       "Mar 1960                              3.405346   \n",
       "Apr 1960                              0.531161   \n",
       "May 1960                              2.183868   \n",
       "...                                        ...   \n",
       "Aug 1990                            -53.078203   \n",
       "Sep 1990                            102.482270   \n",
       "Oct 1990                              9.894921   \n",
       "Nov 1990                             -8.127490   \n",
       "Dec 1990                            -15.611448   \n",
       "\n",
       "          industrial_production_12m_growth_rate  reserves_index_italy  \\\n",
       "Jan 1960                                    NaN            100.000000   \n",
       "Feb 1960                                    NaN             98.963037   \n",
       "Mar 1960                                    NaN             97.792273   \n",
       "Apr 1960                                    NaN             98.996488   \n",
       "May 1960                                    NaN             99.364442   \n",
       "...                                         ...                   ...   \n",
       "Aug 1990                               1.975400           3153.790553   \n",
       "Sep 1990                              -7.558584           3092.273936   \n",
       "Oct 1990                               2.221204           3082.695602   \n",
       "Nov 1990                              -7.895455           2935.742079   \n",
       "Dec 1990                             -15.919049           2938.287544   \n",
       "\n",
       "          reserves_index_usa  \n",
       "Jan 1960          100.000000  \n",
       "Feb 1960           99.616353  \n",
       "Mar 1960           99.378902  \n",
       "Apr 1960           99.068353  \n",
       "May 1960           98.864890  \n",
       "...                      ...  \n",
       "Aug 1990          367.392080  \n",
       "Sep 1990          372.584941  \n",
       "Oct 1990          385.751982  \n",
       "Nov 1990          386.716715  \n",
       "Dec 1990          387.912407  \n",
       "\n",
       "[372 rows x 9 columns]"
      ]
     },
     "execution_count": 39,
     "metadata": {},
     "output_type": "execute_result"
    }
   ],
   "source": [
    "variables_df"
   ]
  },
  {
   "cell_type": "code",
   "execution_count": 40,
   "metadata": {},
   "outputs": [],
   "source": [
    "df.index = pd.to_datetime(df.index)"
   ]
  }
 ],
 "metadata": {
  "kernelspec": {
   "display_name": "ds105",
   "language": "python",
   "name": "python3"
  },
  "language_info": {
   "codemirror_mode": {
    "name": "ipython",
    "version": 3
   },
   "file_extension": ".py",
   "mimetype": "text/x-python",
   "name": "python",
   "nbconvert_exporter": "python",
   "pygments_lexer": "ipython3",
   "version": "3.10.6"
  }
 },
 "nbformat": 4,
 "nbformat_minor": 2
}
